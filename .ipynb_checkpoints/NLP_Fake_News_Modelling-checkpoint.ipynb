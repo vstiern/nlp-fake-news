{
 "cells": [
  {
   "cell_type": "markdown",
   "metadata": {},
   "source": [
    "# Fake News Assignment\n",
    "**Authors**: Vilhelm Stiernstedt & Sharon Marín Salazar\n",
    "<br>\n",
    "**Date**: 20/05/2018\n",
    "\n",
    "### Description\n",
    "Classification problem of News Report (document) for classes (FAKE, REAL). Try text-related classifiers such as Naive Bayes, MaxEnt, SVM. Use NLTK+SKLearn, NLP Pre-processing, Classifiers and CV-evaluation.\n",
    "\n",
    "#### Dataset\n",
    "**fake_or_real_news_training:**\n",
    "- ID: ID of the tweet\n",
    "- Title: Title of the news report\n",
    "- Text: Textual content of the news report\n",
    "- Label: Target Variable [FAKE, REAL]\n",
    "- X1, X2 additional fields\n",
    "\n",
    "**fake_or_real_news_test:**\n",
    "- ID, title and text\n",
    "- Predict Label\n",
    "\n",
    "#### Advices\n",
    "- Take a look to the data\n",
    "- Try the pre-processing methodologies we have seen in class\n",
    "- TF-IDF seems to be better (but try it!)\n",
    "- N-grams pay the effort\n",
    "- Less than 90-92%? -> Try again\n",
    "\n",
    "#### Plan\n",
    "1. Variable analysis\n",
    "    - Features\n",
    "    - Other insight\n",
    "2. Data Processing\n",
    "    - Drop features\n",
    "    - Label\n",
    "3. Modelling\n",
    "    - Navie Bayes\n",
    "    - SGD\n",
    "    - SVM\n",
    "        - linear\n",
    "        - rgb\n",
    "        - poly\n",
    "        - sigmod\n",
    "4. Evaluation"
   ]
  },
  {
   "cell_type": "markdown",
   "metadata": {},
   "source": [
    "## Import Libraries"
   ]
  },
  {
   "cell_type": "code",
   "execution_count": 1,
   "metadata": {},
   "outputs": [
    {
     "name": "stderr",
     "output_type": "stream",
     "text": [
      "/anaconda/lib/python3.6/site-packages/sklearn/cross_validation.py:41: DeprecationWarning: This module was deprecated in version 0.18 in favor of the model_selection module into which all the refactored classes and functions are moved. Also note that the interface of the new CV iterators are different from that of this module. This module will be removed in 0.20.\n",
      "  \"This module will be removed in 0.20.\", DeprecationWarning)\n"
     ]
    }
   ],
   "source": [
    "import collections\n",
    "import matplotlib.pyplot as plt\n",
    "import nltk\n",
    "from nltk import ngrams\n",
    "from nltk.corpus import stopwords\n",
    "from nltk.stem.snowball import SnowballStemmer\n",
    "from nltk.stem.porter import PorterStemmer\n",
    "from nltk.stem import WordNetLemmatizer\n",
    "from nltk.tokenize import sent_tokenize\n",
    "from nltk.tokenize import word_tokenize\n",
    "from nltk.classify import MaxentClassifier\n",
    "import numpy as np\n",
    "import pandas as pd\n",
    "import seaborn as sns\n",
    "import re\n",
    "import PipelineHelper # https://github.com/bmurauer/pipelinehelper/blob/master/pipelinehelper.py\n",
    "from scipy.sparse import hstack\n",
    "from sklearn.cross_validation import train_test_split\n",
    "from sklearn.feature_extraction.text import CountVectorizer\n",
    "from sklearn.feature_extraction.text import TfidfTransformer\n",
    "from sklearn.linear_model import SGDClassifier\n",
    "from sklearn.svm import LinearSVC\n",
    "from sklearn.svm import SVC\n",
    "from sklearn import metrics\n",
    "from sklearn.model_selection import GridSearchCV\n",
    "from sklearn.model_selection import RandomizedSearchCV\n",
    "from sklearn.naive_bayes import MultinomialNB\n",
    "from sklearn.naive_bayes import GaussianNB\n",
    "from sklearn.pipeline import Pipeline\n",
    "from wordcloud import WordCloud, STOPWORDS\n",
    "import warnings\n",
    "\n",
    "# download required nltk packages (NB. commented out)\n",
    "# nltk.download()\n",
    "\n",
    "# plot settings\n",
    "%matplotlib inline\n",
    "\n",
    "# pandas view settings -> see all contents of column\n",
    "pd.set_option('display.max_colwidth', -1)\n",
    "\n",
    "# Warning settings -> suppress depreciation warnings\n",
    "warnings.filterwarnings('ignore', category=DeprecationWarning)"
   ]
  },
  {
   "cell_type": "markdown",
   "metadata": {},
   "source": [
    "## Function Definitions"
   ]
  },
  {
   "cell_type": "markdown",
   "metadata": {},
   "source": [
    "### Plot Confusion Matrix"
   ]
  },
  {
   "cell_type": "code",
   "execution_count": 51,
   "metadata": {},
   "outputs": [],
   "source": [
    "def plot_confusion_matrix(cm, classes,\n",
    "                          normalize=False,\n",
    "                          title='Confusion matrix',\n",
    "                          cmap=plt.cm.Blues):\n",
    "    \"\"\"\n",
    "    This function prints and plots the confusion matrix.\n",
    "    Normalization can be applied by setting `normalize=True`.\n",
    "    \"\"\"\n",
    "    if normalize:\n",
    "        cm = cm.astype('float') / cm.sum(axis=1)[:, np.newaxis]\n",
    "        print(\"Normalized confusion matrix\")\n",
    "    else:\n",
    "        print('Confusion matrix, without normalization')\n",
    "\n",
    "    print(cm)\n",
    "\n",
    "    plt.imshow(cm, interpolation='nearest', cmap=cmap)\n",
    "    plt.title(title)\n",
    "    plt.colorbar()\n",
    "    tick_marks = np.arange(len(classes))\n",
    "    plt.xticks(tick_marks, classes, rotation=45)\n",
    "    plt.yticks(tick_marks, classes)\n",
    "\n",
    "    fmt = '.2f' if normalize else 'd'\n",
    "    thresh = cm.max() / 2.\n",
    "    for i, j in itertools.product(range(cm.shape[0]), range(cm.shape[1])):\n",
    "        plt.text(j, i, format(cm[i, j], fmt),\n",
    "                 horizontalalignment=\"center\",\n",
    "                 color=\"white\" if cm[i, j] > thresh else \"black\")\n",
    "\n",
    "    plt.tight_layout()\n",
    "    plt.ylabel('True label')\n",
    "    plt.xlabel('Predicted label')"
   ]
  },
  {
   "cell_type": "markdown",
   "metadata": {},
   "source": [
    "### Pipeline "
   ]
  },
  {
   "cell_type": "code",
   "execution_count": 2,
   "metadata": {},
   "outputs": [],
   "source": [
    "# function to build pipeline with multiple models\n",
    "# https://github.com/bmurauer/pipelinehelper/blob/master/pipelinehelper.py\n",
    "\n",
    "from sklearn.base import TransformerMixin, BaseEstimator, ClassifierMixin\n",
    "from collections import defaultdict\n",
    "import itertools\n",
    "\n",
    "class PipelineHelper(BaseEstimator, TransformerMixin, ClassifierMixin):\n",
    "\n",
    "    def __init__(self, available_models=None, selected_model=None, include_bypass=False):\n",
    "        self.include_bypass = include_bypass\n",
    "        self.selected_model = selected_model\n",
    "        # this is required for the clone operator used in gridsearch\n",
    "        if type(available_models) == dict:\n",
    "            self.available_models = available_models\n",
    "        # this is the case for constructing the helper initially\n",
    "        else:\n",
    "            # a string identifier is required for assigning parameters\n",
    "            self.available_models = {}\n",
    "            for (key, model) in available_models:\n",
    "                self.available_models[key] = model\n",
    "\n",
    "    def generate(self, param_dict={}):\n",
    "        per_model_parameters = defaultdict(lambda: defaultdict(list))\n",
    "\n",
    "        # collect parameters for each specified model\n",
    "        for k, values in param_dict.items():\n",
    "            model_name = k.split('__')[0]\n",
    "            param_name = k[len(model_name)+2:]  # might be nested\n",
    "            if model_name not in self.available_models:\n",
    "                raise Exception('no such model: {0}'.format(model_name))\n",
    "            per_model_parameters[model_name][param_name] = values\n",
    "\n",
    "        ret = []\n",
    "\n",
    "        # create instance for cartesion product of all available parameters for each model\n",
    "        for model_name, param_dict in per_model_parameters.items():\n",
    "            parameter_sets = (dict(zip(param_dict, x)) for x in itertools.product(*param_dict.values()))\n",
    "            for parameters in parameter_sets:\n",
    "                ret.append((model_name, parameters))\n",
    "\n",
    "        # for every model that has no specified parameters, add the default model\n",
    "        for model_name in self.available_models.keys():\n",
    "            if model_name not in per_model_parameters:\n",
    "                ret.append((model_name, dict()))\n",
    "\n",
    "        # check if the stage is to be bypassed as one configuration\n",
    "        if self.include_bypass:\n",
    "            ret.append((None, dict(), True))\n",
    "        return ret\n",
    "\n",
    "    def get_params(self, deep=False):\n",
    "        return {'available_models': self.available_models,\n",
    "                'selected_model': self.selected_model,\n",
    "                'include_bypass': self.include_bypass}\n",
    "\n",
    "    def set_params(self, selected_model, available_models=None, include_bypass=False):\n",
    "        include_bypass = len(selected_model) == 3 and selected_model[2]\n",
    "\n",
    "        if available_models:\n",
    "            self.available_models = available_models\n",
    "\n",
    "        if selected_model[0] is None and include_bypass:\n",
    "            self.selected_model = None\n",
    "            self.include_bypass = True\n",
    "        else:\n",
    "            if selected_model[0] not in self.available_models:\n",
    "                raise Exception('so such model available: {0}'.format(selected_model[0]))\n",
    "            self.selected_model = self.available_models[selected_model[0]]\n",
    "            self.selected_model.set_params(**selected_model[1])\n",
    "\n",
    "    def fit(self, X, y=None):\n",
    "        if self.selected_model is None and not self.include_bypass:\n",
    "            raise Exception('no model was set')\n",
    "        elif self.selected_model is None:\n",
    "            # print('bypassing model for fitting, returning self')\n",
    "            return self\n",
    "        else:\n",
    "            # print('using model for fitting: ', self.selected_model.__class__.__name__)\n",
    "            return self.selected_model.fit(X, y)\n",
    "\n",
    "    def transform(self, X, y=None):\n",
    "        if self.selected_model is None and not self.include_bypass:\n",
    "            raise Exception('no model was set')\n",
    "        elif self.selected_model is None:\n",
    "            # print('bypassing model for transforming:')\n",
    "            # print(X[:10])\n",
    "            return X\n",
    "        else:\n",
    "            # print('using model for transforming: ', self.selected_model.__class__.__name__)\n",
    "            return self.selected_model.transform(X)\n",
    "\n",
    "    def predict(self, x):\n",
    "        if self.include_bypass:\n",
    "            raise Exception('bypassing classifier is not allowed')\n",
    "        if self.selected_model is None:\n",
    "            raise Exception('no model was set')\n",
    "        return self.selected_model.predict(x)\n"
   ]
  },
  {
   "cell_type": "markdown",
   "metadata": {},
   "source": [
    "## Import Data"
   ]
  },
  {
   "cell_type": "code",
   "execution_count": 28,
   "metadata": {},
   "outputs": [],
   "source": [
    "# set path to data\n",
    "data_path = 'data/'\n",
    "\n",
    "# load test and train\n",
    "df_train = pd.read_csv(data_path+'training_clean.csv')\n",
    "df_test = pd.read_csv(data_path+'fake_or_real_news_test.csv')\n",
    "\n",
    "# set index\n",
    "df_train.set_index('ID', inplace=True)\n",
    "df_test.set_index('ID', inplace=True)\n",
    "\n",
    "# define combined df\n",
    "all_data = df_train.append(df_test)"
   ]
  },
  {
   "cell_type": "markdown",
   "metadata": {},
   "source": [
    "## Data Processing "
   ]
  },
  {
   "cell_type": "markdown",
   "metadata": {},
   "source": [
    "### Text Processing\n",
    "#### Stemmers & Lemmatizer"
   ]
  },
  {
   "cell_type": "code",
   "execution_count": 29,
   "metadata": {},
   "outputs": [],
   "source": [
    "# define count vectorizer for modelling (different parameter inputs will be given in modelling)\n",
    "count_vectorizer = CountVectorizer()\n",
    "\n",
    "# define Snowball stemmer (different parameter inputs will be given in modelling\n",
    "snowball_stemmer = SnowballStemmer(\"english\")\n",
    "\n",
    "# define new vectorizer function with snowball stemmer\n",
    "class SnowballCountVectorizer(CountVectorizer):\n",
    "    def build_analyzer(self):\n",
    "        analyzer = super(SnowballCountVectorizer, self).build_analyzer()\n",
    "        return lambda doc: ([snowball_stemmer.stem(w) for w in analyzer(doc)])\n",
    "    \n",
    "# define new vectorizer function with Porter stemmer NLTK exten \n",
    "# (different parameter inputs will be given in modelling)\n",
    "porter_stemmer = PorterStemmer(mode='NLTK_EXTENSIONS')\n",
    "\n",
    "# define new vectorizer function with porter stemmer\n",
    "class PorterCountVectorizer(CountVectorizer):\n",
    "    def build_analyzer(self):\n",
    "        analyzer = super(PorterCountVectorizer, self).build_analyzer()\n",
    "        return lambda doc: ([porter_stemmer.stem(w) for w in analyzer(doc)])\n",
    "    \n",
    "# define lemmatizer\n",
    "lemmatizer = WordNetLemmatizer()\n",
    "\n",
    "# define new vectorizer function with stemmer\n",
    "class LemmatizerCountVectorizer(CountVectorizer):\n",
    "    def build_analyzer(self):\n",
    "        analyzer = super(LemmatizerCountVectorizer, self).build_analyzer()\n",
    "        return lambda doc: ([lemmatizer.lemmatize(w) for w in analyzer(doc)])"
   ]
  },
  {
   "cell_type": "markdown",
   "metadata": {},
   "source": [
    "### Model Pipeline 1\n",
    "In our first pipeline we will try different type of vectorizer and stemmers with some parameter tuning. We hope that of these stemmers will be better than our baseline for all tested models. We will assess the following combinations:\n",
    "    - count vectorizer\n",
    "    - count vectorizer w. snowball stemmer\n",
    "    - count vectorizer w. porter stemmer\n",
    "    - count vectorizer w. lemmatizer"
   ]
  },
  {
   "cell_type": "markdown",
   "metadata": {},
   "source": [
    "#### Variable Selection"
   ]
  },
  {
   "cell_type": "code",
   "execution_count": 30,
   "metadata": {},
   "outputs": [],
   "source": [
    "# create different feature subsets\n",
    "df_model = df_train.text"
   ]
  },
  {
   "cell_type": "markdown",
   "metadata": {},
   "source": [
    "#### Label"
   ]
  },
  {
   "cell_type": "code",
   "execution_count": 31,
   "metadata": {},
   "outputs": [],
   "source": [
    "# save label\n",
    "label = df_train.label"
   ]
  },
  {
   "cell_type": "markdown",
   "metadata": {},
   "source": [
    "#### Split training data"
   ]
  },
  {
   "cell_type": "code",
   "execution_count": 32,
   "metadata": {},
   "outputs": [],
   "source": [
    "# split training data and labels into train and validation 80/20\n",
    "x_train, x_validation, y_train, y_validation = train_test_split(df_model, label,\n",
    "                                                                test_size=0.2, random_state=42)"
   ]
  },
  {
   "cell_type": "code",
   "execution_count": 46,
   "metadata": {},
   "outputs": [],
   "source": [
    "# define pipeline (vectorizer, models)\n",
    "pipeline = Pipeline([('vect', PipelineHelper([\n",
    "                            ('counter', CountVectorizer()),\n",
    "                            ('snowball_stemmer', SnowballCountVectorizer()),\n",
    "                            ('porter_stemmer', PorterCountVectorizer()),\n",
    "                            ('lemmatizer', LemmatizerCountVectorizer()),\n",
    "                        ])),\n",
    "                     ('clf', PipelineHelper([\n",
    "                            #('sgd', SGDClassifier(n_iter=1000)),\n",
    "                            #('svm-lin', LinearSVC()),\n",
    "                            #('svm-ker', SVC()),\n",
    "                            #('multi_nb', MultinomialNB()),\n",
    "                        ])),\n",
    "                       ])"
   ]
  },
  {
   "cell_type": "markdown",
   "metadata": {},
   "source": [
    "#### Parameters\n",
    "We will extend the model parameters and hope to imporve our score."
   ]
  },
  {
   "cell_type": "code",
   "execution_count": 47,
   "metadata": {},
   "outputs": [],
   "source": [
    "# define pipline parameters\n",
    "parameters = {'vect__selected_model': pipeline.named_steps['vect'].generate({\n",
    "                  'counter__ngram_range': [(1, 2), (1, 3), (1, 4)],\n",
    "                  'counter__stop_words': ('english', None),\n",
    "                  'counter__lowercase': (True, False),\n",
    "                  'snowball_stemmer__ngram_range': [(1, 2), (1, 3), (1, 4)],\n",
    "                  'snowball_stemmer__stop_words': ('english', None),\n",
    "                  'snowball_stemmer__lowercase': (True, False),\n",
    "                  'porter_stemmer__ngram_range': [(1, 2), (1, 3), (1, 4)],\n",
    "                  'porter_stemmer__stop_words': ('english', None),\n",
    "                  'porter_stemmer__lowercase': (True, False),\n",
    "                  'lemmatizer__ngram_range': [(1, 2), (1, 3), (1, 4)],\n",
    "                  'lemmatizer__stop_words': ('english', None),\n",
    "                  'lemmatizer__lowercase': (True, False),\n",
    "                }),\n",
    "              'clf__selected_model': pipeline.named_steps['clf'].generate({\n",
    "                #  'sgd__alpha': (1e-4, 1e-3, 1e-2, 1e-1, 1e0, 1e1, 1e2, 1e3),\n",
    "                #  'sgd__loss': ('hinge', 'squared_hinge', 'log'),\n",
    "                #  'sgd__l1_ratio': (0, 0.1, 0.25, 0.5, 0.75, 1.0),\n",
    "                #  'svm-lin__penalty': ('l1', 'l2'),\n",
    "                #  'svm-lin__loss': ('hinge', 'squared_hinge'),\n",
    "                #  'svm-lin__C': (0.1, 1, 10, 50, 100, 500, 1000),\n",
    "                  'svm-ker__kernel': ('rbf', 'poly', 'sigmoid'),\n",
    "                  'svm-ker__C': (0.1, 1, 10, 50, 100, 500, 1000),\n",
    "                  #'multi_nb__alpha': (0.1, 0.25, 0.5, 0.75, 1)\n",
    "                })\n",
    "              }"
   ]
  },
  {
   "cell_type": "markdown",
   "metadata": {},
   "source": [
    "#### GridSearch"
   ]
  },
  {
   "cell_type": "code",
   "execution_count": 48,
   "metadata": {},
   "outputs": [
    {
     "name": "stdout",
     "output_type": "stream",
     "text": [
      "Fitting 3 folds for each of 20 candidates, totalling 60 fits\n",
      "[CV] vect__selected_model=('snowball_stemmer', {'ngram_range': (1, 4), 'stop_words': None, 'lowercase': False}), clf__selected_model=('svm-ker', {'kernel': 'sigmoid', 'C': 10000000.0}) \n",
      "[CV] vect__selected_model=('snowball_stemmer', {'ngram_range': (1, 4), 'stop_words': None, 'lowercase': False}), clf__selected_model=('svm-ker', {'kernel': 'sigmoid', 'C': 10000000.0}) \n",
      "[CV] vect__selected_model=('snowball_stemmer', {'ngram_range': (1, 4), 'stop_words': None, 'lowercase': False}), clf__selected_model=('svm-ker', {'kernel': 'sigmoid', 'C': 10000000.0}) \n",
      "[CV]  vect__selected_model=('snowball_stemmer', {'ngram_range': (1, 4), 'stop_words': None, 'lowercase': False}), clf__selected_model=('svm-ker', {'kernel': 'sigmoid', 'C': 10000000.0}), score=0.7638238050609185, total= 9.2min\n",
      "[CV] vect__selected_model=('porter_stemmer', {'ngram_range': (1, 2), 'stop_words': 'english', 'lowercase': False}), clf__selected_model=('svm-ker', {'kernel': 'poly', 'C': 10000000000.0}) \n",
      "[CV]  vect__selected_model=('snowball_stemmer', {'ngram_range': (1, 4), 'stop_words': None, 'lowercase': False}), clf__selected_model=('svm-ker', {'kernel': 'sigmoid', 'C': 10000000.0}), score=0.7589118198874296, total= 9.3min\n",
      "[CV] vect__selected_model=('porter_stemmer', {'ngram_range': (1, 2), 'stop_words': 'english', 'lowercase': False}), clf__selected_model=('svm-ker', {'kernel': 'poly', 'C': 10000000000.0}) \n",
      "[CV]  vect__selected_model=('snowball_stemmer', {'ngram_range': (1, 4), 'stop_words': None, 'lowercase': False}), clf__selected_model=('svm-ker', {'kernel': 'sigmoid', 'C': 10000000.0}), score=0.8123827392120075, total= 9.3min\n",
      "[CV] vect__selected_model=('porter_stemmer', {'ngram_range': (1, 2), 'stop_words': 'english', 'lowercase': False}), clf__selected_model=('svm-ker', {'kernel': 'poly', 'C': 10000000000.0}) \n",
      "[CV]  vect__selected_model=('porter_stemmer', {'ngram_range': (1, 2), 'stop_words': 'english', 'lowercase': False}), clf__selected_model=('svm-ker', {'kernel': 'poly', 'C': 10000000000.0}), score=0.7544517338331771, total= 3.6min\n",
      "[CV] vect__selected_model=('snowball_stemmer', {'ngram_range': (1, 4), 'stop_words': 'english', 'lowercase': True}), clf__selected_model=('svm-ker', {'kernel': 'sigmoid', 'C': 100.0}) \n",
      "[CV]  vect__selected_model=('porter_stemmer', {'ngram_range': (1, 2), 'stop_words': 'english', 'lowercase': False}), clf__selected_model=('svm-ker', {'kernel': 'poly', 'C': 10000000000.0}), score=0.7298311444652908, total= 3.6min\n",
      "[CV] vect__selected_model=('snowball_stemmer', {'ngram_range': (1, 4), 'stop_words': 'english', 'lowercase': True}), clf__selected_model=('svm-ker', {'kernel': 'sigmoid', 'C': 100.0}) \n",
      "[CV]  vect__selected_model=('porter_stemmer', {'ngram_range': (1, 2), 'stop_words': 'english', 'lowercase': False}), clf__selected_model=('svm-ker', {'kernel': 'poly', 'C': 10000000000.0}), score=0.7270168855534709, total= 3.7min\n",
      "[CV] vect__selected_model=('snowball_stemmer', {'ngram_range': (1, 4), 'stop_words': 'english', 'lowercase': True}), clf__selected_model=('svm-ker', {'kernel': 'sigmoid', 'C': 100.0}) \n",
      "[CV]  vect__selected_model=('snowball_stemmer', {'ngram_range': (1, 4), 'stop_words': 'english', 'lowercase': True}), clf__selected_model=('svm-ker', {'kernel': 'sigmoid', 'C': 100.0}), score=0.7760074976569822, total= 5.5min\n",
      "[CV] vect__selected_model=('porter_stemmer', {'ngram_range': (1, 4), 'stop_words': None, 'lowercase': False}), clf__selected_model=('svm-ker', {'kernel': 'rbf', 'C': 1000.0}) \n",
      "[CV]  vect__selected_model=('snowball_stemmer', {'ngram_range': (1, 4), 'stop_words': 'english', 'lowercase': True}), clf__selected_model=('svm-ker', {'kernel': 'sigmoid', 'C': 100.0}), score=0.7476547842401501, total= 5.5min\n",
      "[CV] vect__selected_model=('porter_stemmer', {'ngram_range': (1, 4), 'stop_words': None, 'lowercase': False}), clf__selected_model=('svm-ker', {'kernel': 'rbf', 'C': 1000.0}) \n",
      "[CV]  vect__selected_model=('snowball_stemmer', {'ngram_range': (1, 4), 'stop_words': 'english', 'lowercase': True}), clf__selected_model=('svm-ker', {'kernel': 'sigmoid', 'C': 100.0}), score=0.7392120075046904, total= 5.6min\n",
      "[CV] vect__selected_model=('porter_stemmer', {'ngram_range': (1, 4), 'stop_words': None, 'lowercase': False}), clf__selected_model=('svm-ker', {'kernel': 'rbf', 'C': 1000.0}) \n",
      "[CV]  vect__selected_model=('porter_stemmer', {'ngram_range': (1, 4), 'stop_words': None, 'lowercase': False}), clf__selected_model=('svm-ker', {'kernel': 'rbf', 'C': 1000.0}), score=0.8697282099343955, total=12.1min\n",
      "[CV] vect__selected_model=('porter_stemmer', {'ngram_range': (1, 4), 'stop_words': 'english', 'lowercase': True}), clf__selected_model=('svm-ker', {'kernel': 'rbf', 'C': 1000000.0}) \n",
      "[CV]  vect__selected_model=('porter_stemmer', {'ngram_range': (1, 4), 'stop_words': None, 'lowercase': False}), clf__selected_model=('svm-ker', {'kernel': 'rbf', 'C': 1000.0}), score=0.8639774859287055, total=12.1min\n",
      "[CV] vect__selected_model=('porter_stemmer', {'ngram_range': (1, 4), 'stop_words': 'english', 'lowercase': True}), clf__selected_model=('svm-ker', {'kernel': 'rbf', 'C': 1000000.0}) \n",
      "[CV]  vect__selected_model=('porter_stemmer', {'ngram_range': (1, 4), 'stop_words': None, 'lowercase': False}), clf__selected_model=('svm-ker', {'kernel': 'rbf', 'C': 1000.0}), score=0.8658536585365854, total=12.2min\n",
      "[CV] vect__selected_model=('porter_stemmer', {'ngram_range': (1, 4), 'stop_words': 'english', 'lowercase': True}), clf__selected_model=('svm-ker', {'kernel': 'rbf', 'C': 1000000.0}) \n",
      "[CV]  vect__selected_model=('porter_stemmer', {'ngram_range': (1, 4), 'stop_words': 'english', 'lowercase': True}), clf__selected_model=('svm-ker', {'kernel': 'rbf', 'C': 1000000.0}), score=0.8331771321462043, total= 6.7min\n",
      "[CV] vect__selected_model=('porter_stemmer', {'ngram_range': (1, 2), 'stop_words': None, 'lowercase': True}), clf__selected_model=('svm-ker', {'kernel': 'poly', 'C': 1000000.0}) \n",
      "[CV]  vect__selected_model=('porter_stemmer', {'ngram_range': (1, 4), 'stop_words': 'english', 'lowercase': True}), clf__selected_model=('svm-ker', {'kernel': 'rbf', 'C': 1000000.0}), score=0.8311444652908068, total= 6.8min\n",
      "[CV] vect__selected_model=('porter_stemmer', {'ngram_range': (1, 2), 'stop_words': None, 'lowercase': True}), clf__selected_model=('svm-ker', {'kernel': 'poly', 'C': 1000000.0}) \n",
      "[CV]  vect__selected_model=('porter_stemmer', {'ngram_range': (1, 4), 'stop_words': 'english', 'lowercase': True}), clf__selected_model=('svm-ker', {'kernel': 'rbf', 'C': 1000000.0}), score=0.8545966228893058, total= 6.8min\n",
      "[CV] vect__selected_model=('porter_stemmer', {'ngram_range': (1, 2), 'stop_words': None, 'lowercase': True}), clf__selected_model=('svm-ker', {'kernel': 'poly', 'C': 1000000.0}) \n",
      "[CV]  vect__selected_model=('porter_stemmer', {'ngram_range': (1, 2), 'stop_words': None, 'lowercase': True}), clf__selected_model=('svm-ker', {'kernel': 'poly', 'C': 1000000.0}), score=0.7582005623242737, total= 5.5min\n",
      "[CV] vect__selected_model=('counter', {'ngram_range': (1, 3), 'stop_words': None, 'lowercase': False}), clf__selected_model=('svm-ker', {'kernel': 'rbf', 'C': 1000.0}) \n",
      "[CV]  vect__selected_model=('porter_stemmer', {'ngram_range': (1, 2), 'stop_words': None, 'lowercase': True}), clf__selected_model=('svm-ker', {'kernel': 'poly', 'C': 1000000.0}), score=0.7401500938086304, total= 5.6min\n",
      "[CV] vect__selected_model=('counter', {'ngram_range': (1, 3), 'stop_words': None, 'lowercase': False}), clf__selected_model=('svm-ker', {'kernel': 'rbf', 'C': 1000.0}) \n",
      "[CV]  vect__selected_model=('porter_stemmer', {'ngram_range': (1, 2), 'stop_words': None, 'lowercase': True}), clf__selected_model=('svm-ker', {'kernel': 'poly', 'C': 1000000.0}), score=0.7326454033771107, total= 5.5min\n",
      "[CV] vect__selected_model=('counter', {'ngram_range': (1, 3), 'stop_words': None, 'lowercase': False}), clf__selected_model=('svm-ker', {'kernel': 'rbf', 'C': 1000.0}) \n",
      "[CV]  vect__selected_model=('counter', {'ngram_range': (1, 3), 'stop_words': None, 'lowercase': False}), clf__selected_model=('svm-ker', {'kernel': 'rbf', 'C': 1000.0}), score=0.8678537956888472, total= 1.3min\n"
     ]
    },
    {
     "name": "stderr",
     "output_type": "stream",
     "text": [
      "[Parallel(n_jobs=3)]: Done  19 tasks      | elapsed: 61.7min\n"
     ]
    },
    {
     "name": "stdout",
     "output_type": "stream",
     "text": [
      "[CV] vect__selected_model=('lemmatizer', {'ngram_range': (1, 4), 'stop_words': None, 'lowercase': False}), clf__selected_model=('svm-ker', {'kernel': 'rbf', 'C': 100000.0}) \n",
      "[CV]  vect__selected_model=('counter', {'ngram_range': (1, 3), 'stop_words': None, 'lowercase': False}), clf__selected_model=('svm-ker', {'kernel': 'rbf', 'C': 1000.0}), score=0.8789868667917449, total= 1.3min\n",
      "[CV] vect__selected_model=('lemmatizer', {'ngram_range': (1, 4), 'stop_words': None, 'lowercase': False}), clf__selected_model=('svm-ker', {'kernel': 'rbf', 'C': 100000.0}) \n",
      "[CV]  vect__selected_model=('counter', {'ngram_range': (1, 3), 'stop_words': None, 'lowercase': False}), clf__selected_model=('svm-ker', {'kernel': 'rbf', 'C': 1000.0}), score=0.8818011257035647, total= 1.3min\n",
      "[CV] vect__selected_model=('lemmatizer', {'ngram_range': (1, 4), 'stop_words': None, 'lowercase': False}), clf__selected_model=('svm-ker', {'kernel': 'rbf', 'C': 100000.0}) \n",
      "[CV]  vect__selected_model=('lemmatizer', {'ngram_range': (1, 4), 'stop_words': None, 'lowercase': False}), clf__selected_model=('svm-ker', {'kernel': 'rbf', 'C': 100000.0}), score=0.8612933458294283, total= 3.4min\n",
      "[CV] vect__selected_model=('porter_stemmer', {'ngram_range': (1, 4), 'stop_words': None, 'lowercase': True}), clf__selected_model=('svm-ker', {'kernel': 'rbf', 'C': 10000.0}) \n",
      "[CV]  vect__selected_model=('lemmatizer', {'ngram_range': (1, 4), 'stop_words': None, 'lowercase': False}), clf__selected_model=('svm-ker', {'kernel': 'rbf', 'C': 100000.0}), score=0.8714821763602252, total= 3.4min\n",
      "[CV] vect__selected_model=('porter_stemmer', {'ngram_range': (1, 4), 'stop_words': None, 'lowercase': True}), clf__selected_model=('svm-ker', {'kernel': 'rbf', 'C': 10000.0}) \n",
      "[CV]  vect__selected_model=('lemmatizer', {'ngram_range': (1, 4), 'stop_words': None, 'lowercase': False}), clf__selected_model=('svm-ker', {'kernel': 'rbf', 'C': 100000.0}), score=0.8621013133208255, total= 3.5min\n",
      "[CV] vect__selected_model=('porter_stemmer', {'ngram_range': (1, 4), 'stop_words': None, 'lowercase': True}), clf__selected_model=('svm-ker', {'kernel': 'rbf', 'C': 10000.0}) \n",
      "[CV]  vect__selected_model=('porter_stemmer', {'ngram_range': (1, 4), 'stop_words': None, 'lowercase': True}), clf__selected_model=('svm-ker', {'kernel': 'rbf', 'C': 10000.0}), score=0.8903467666354264, total=12.4min\n",
      "[CV] vect__selected_model=('counter', {'ngram_range': (1, 4), 'stop_words': None, 'lowercase': False}), clf__selected_model=('svm-ker', {'kernel': 'rbf', 'C': 100.0}) \n",
      "[CV]  vect__selected_model=('porter_stemmer', {'ngram_range': (1, 4), 'stop_words': None, 'lowercase': True}), clf__selected_model=('svm-ker', {'kernel': 'rbf', 'C': 10000.0}), score=0.8958724202626641, total=12.4min\n",
      "[CV] vect__selected_model=('counter', {'ngram_range': (1, 4), 'stop_words': None, 'lowercase': False}), clf__selected_model=('svm-ker', {'kernel': 'rbf', 'C': 100.0}) \n",
      "[CV]  vect__selected_model=('porter_stemmer', {'ngram_range': (1, 4), 'stop_words': None, 'lowercase': True}), clf__selected_model=('svm-ker', {'kernel': 'rbf', 'C': 10000.0}), score=0.8958724202626641, total=12.4min\n",
      "[CV] vect__selected_model=('counter', {'ngram_range': (1, 4), 'stop_words': None, 'lowercase': False}), clf__selected_model=('svm-ker', {'kernel': 'rbf', 'C': 100.0}) \n",
      "[CV]  vect__selected_model=('counter', {'ngram_range': (1, 4), 'stop_words': None, 'lowercase': False}), clf__selected_model=('svm-ker', {'kernel': 'rbf', 'C': 100.0}), score=0.8069353327085286, total= 1.7min\n",
      "[CV] vect__selected_model=('counter', {'ngram_range': (1, 4), 'stop_words': None, 'lowercase': True}), clf__selected_model=('svm-ker', {'kernel': 'poly', 'C': 1000.0}) \n",
      "[CV]  vect__selected_model=('counter', {'ngram_range': (1, 4), 'stop_words': None, 'lowercase': False}), clf__selected_model=('svm-ker', {'kernel': 'rbf', 'C': 100.0}), score=0.7954971857410882, total= 1.8min\n",
      "[CV] vect__selected_model=('counter', {'ngram_range': (1, 4), 'stop_words': None, 'lowercase': True}), clf__selected_model=('svm-ker', {'kernel': 'poly', 'C': 1000.0}) \n",
      "[CV]  vect__selected_model=('counter', {'ngram_range': (1, 4), 'stop_words': None, 'lowercase': False}), clf__selected_model=('svm-ker', {'kernel': 'rbf', 'C': 100.0}), score=0.7898686679174484, total= 1.8min\n",
      "[CV] vect__selected_model=('counter', {'ngram_range': (1, 4), 'stop_words': None, 'lowercase': True}), clf__selected_model=('svm-ker', {'kernel': 'poly', 'C': 1000.0}) \n",
      "[CV]  vect__selected_model=('counter', {'ngram_range': (1, 4), 'stop_words': None, 'lowercase': True}), clf__selected_model=('svm-ker', {'kernel': 'poly', 'C': 1000.0}), score=0.5023430178069354, total= 2.1min\n",
      "[CV] vect__selected_model=('lemmatizer', {'ngram_range': (1, 2), 'stop_words': None, 'lowercase': False}), clf__selected_model=('svm-ker', {'kernel': 'poly', 'C': 1000000.0}) \n",
      "[CV]  vect__selected_model=('counter', {'ngram_range': (1, 4), 'stop_words': None, 'lowercase': True}), clf__selected_model=('svm-ker', {'kernel': 'poly', 'C': 1000.0}), score=0.50093808630394, total= 2.1min\n",
      "[CV] vect__selected_model=('lemmatizer', {'ngram_range': (1, 2), 'stop_words': None, 'lowercase': False}), clf__selected_model=('svm-ker', {'kernel': 'poly', 'C': 1000000.0}) \n",
      "[CV]  vect__selected_model=('counter', {'ngram_range': (1, 4), 'stop_words': None, 'lowercase': True}), clf__selected_model=('svm-ker', {'kernel': 'poly', 'C': 1000.0}), score=0.5028142589118199, total= 2.2min\n",
      "[CV] vect__selected_model=('lemmatizer', {'ngram_range': (1, 2), 'stop_words': None, 'lowercase': False}), clf__selected_model=('svm-ker', {'kernel': 'poly', 'C': 1000000.0}) \n",
      "[CV]  vect__selected_model=('lemmatizer', {'ngram_range': (1, 2), 'stop_words': None, 'lowercase': False}), clf__selected_model=('svm-ker', {'kernel': 'poly', 'C': 1000000.0}), score=0.7319587628865979, total= 1.6min\n",
      "[CV] vect__selected_model=('counter', {'ngram_range': (1, 4), 'stop_words': 'english', 'lowercase': False}), clf__selected_model=('svm-ker', {'kernel': 'sigmoid', 'C': 0.1}) \n",
      "[CV]  vect__selected_model=('lemmatizer', {'ngram_range': (1, 2), 'stop_words': None, 'lowercase': False}), clf__selected_model=('svm-ker', {'kernel': 'poly', 'C': 1000000.0}), score=0.7101313320825516, total= 1.6min\n",
      "[CV] vect__selected_model=('counter', {'ngram_range': (1, 4), 'stop_words': 'english', 'lowercase': False}), clf__selected_model=('svm-ker', {'kernel': 'sigmoid', 'C': 0.1}) \n",
      "[CV]  vect__selected_model=('lemmatizer', {'ngram_range': (1, 2), 'stop_words': None, 'lowercase': False}), clf__selected_model=('svm-ker', {'kernel': 'poly', 'C': 1000000.0}), score=0.7073170731707317, total= 1.6min\n",
      "[CV] vect__selected_model=('counter', {'ngram_range': (1, 4), 'stop_words': 'english', 'lowercase': False}), clf__selected_model=('svm-ker', {'kernel': 'sigmoid', 'C': 0.1}) \n",
      "[CV]  vect__selected_model=('counter', {'ngram_range': (1, 4), 'stop_words': 'english', 'lowercase': False}), clf__selected_model=('svm-ker', {'kernel': 'sigmoid', 'C': 0.1}), score=0.5023430178069354, total= 1.2min\n",
      "[CV] vect__selected_model=('snowball_stemmer', {'ngram_range': (1, 3), 'stop_words': 'english', 'lowercase': True}), clf__selected_model=('svm-ker', {'kernel': 'rbf', 'C': 100000.0}) \n",
      "[CV]  vect__selected_model=('counter', {'ngram_range': (1, 4), 'stop_words': 'english', 'lowercase': False}), clf__selected_model=('svm-ker', {'kernel': 'sigmoid', 'C': 0.1}), score=0.5028142589118199, total= 1.3min\n",
      "[CV] vect__selected_model=('snowball_stemmer', {'ngram_range': (1, 3), 'stop_words': 'english', 'lowercase': True}), clf__selected_model=('svm-ker', {'kernel': 'rbf', 'C': 100000.0}) \n",
      "[CV]  vect__selected_model=('counter', {'ngram_range': (1, 4), 'stop_words': 'english', 'lowercase': False}), clf__selected_model=('svm-ker', {'kernel': 'sigmoid', 'C': 0.1}), score=0.5028142589118199, total= 1.3min\n",
      "[CV] vect__selected_model=('snowball_stemmer', {'ngram_range': (1, 3), 'stop_words': 'english', 'lowercase': True}), clf__selected_model=('svm-ker', {'kernel': 'rbf', 'C': 100000.0}) \n",
      "[CV]  vect__selected_model=('snowball_stemmer', {'ngram_range': (1, 3), 'stop_words': 'english', 'lowercase': True}), clf__selected_model=('svm-ker', {'kernel': 'rbf', 'C': 100000.0}), score=0.8622305529522024, total=61.0min\n",
      "[CV] vect__selected_model=('snowball_stemmer', {'ngram_range': (1, 4), 'stop_words': None, 'lowercase': False}), clf__selected_model=('svm-ker', {'kernel': 'sigmoid', 'C': 10000.0}) \n"
     ]
    },
    {
     "name": "stdout",
     "output_type": "stream",
     "text": [
      "[CV]  vect__selected_model=('snowball_stemmer', {'ngram_range': (1, 3), 'stop_words': 'english', 'lowercase': True}), clf__selected_model=('svm-ker', {'kernel': 'rbf', 'C': 100000.0}), score=0.8602251407129456, total=61.4min\n",
      "[CV] vect__selected_model=('snowball_stemmer', {'ngram_range': (1, 4), 'stop_words': None, 'lowercase': False}), clf__selected_model=('svm-ker', {'kernel': 'sigmoid', 'C': 10000.0}) \n",
      "[CV]  vect__selected_model=('snowball_stemmer', {'ngram_range': (1, 3), 'stop_words': 'english', 'lowercase': True}), clf__selected_model=('svm-ker', {'kernel': 'rbf', 'C': 100000.0}), score=0.8639774859287055, total=61.2min\n",
      "[CV] vect__selected_model=('snowball_stemmer', {'ngram_range': (1, 4), 'stop_words': None, 'lowercase': False}), clf__selected_model=('svm-ker', {'kernel': 'sigmoid', 'C': 10000.0}) \n",
      "[CV]  vect__selected_model=('snowball_stemmer', {'ngram_range': (1, 4), 'stop_words': None, 'lowercase': False}), clf__selected_model=('svm-ker', {'kernel': 'sigmoid', 'C': 10000.0}), score=0.7966260543580131, total=132.1min\n",
      "[CV] vect__selected_model=('lemmatizer', {'ngram_range': (1, 4), 'stop_words': None, 'lowercase': False}), clf__selected_model=('svm-ker', {'kernel': 'rbf', 'C': 1000000000.0}) \n",
      "[CV]  vect__selected_model=('snowball_stemmer', {'ngram_range': (1, 4), 'stop_words': None, 'lowercase': False}), clf__selected_model=('svm-ker', {'kernel': 'sigmoid', 'C': 10000.0}), score=0.9015009380863039, total=132.3min\n",
      "[CV] vect__selected_model=('lemmatizer', {'ngram_range': (1, 4), 'stop_words': None, 'lowercase': False}), clf__selected_model=('svm-ker', {'kernel': 'rbf', 'C': 1000000000.0}) \n",
      "[CV]  vect__selected_model=('snowball_stemmer', {'ngram_range': (1, 4), 'stop_words': None, 'lowercase': False}), clf__selected_model=('svm-ker', {'kernel': 'sigmoid', 'C': 10000.0}), score=0.8123827392120075, total=141.4min\n",
      "[CV] vect__selected_model=('lemmatizer', {'ngram_range': (1, 4), 'stop_words': None, 'lowercase': False}), clf__selected_model=('svm-ker', {'kernel': 'rbf', 'C': 1000000000.0}) \n",
      "[CV]  vect__selected_model=('lemmatizer', {'ngram_range': (1, 4), 'stop_words': None, 'lowercase': False}), clf__selected_model=('svm-ker', {'kernel': 'rbf', 'C': 1000000000.0}), score=0.837863167760075, total=41.1min\n",
      "[CV] vect__selected_model=('counter', {'ngram_range': (1, 3), 'stop_words': 'english', 'lowercase': True}), clf__selected_model=('svm-ker', {'kernel': 'sigmoid', 'C': 1.0}) \n",
      "[CV]  vect__selected_model=('counter', {'ngram_range': (1, 3), 'stop_words': 'english', 'lowercase': True}), clf__selected_model=('svm-ker', {'kernel': 'sigmoid', 'C': 1.0}), score=0.5023430178069354, total=19.7min\n",
      "[CV] vect__selected_model=('counter', {'ngram_range': (1, 3), 'stop_words': 'english', 'lowercase': True}), clf__selected_model=('svm-ker', {'kernel': 'sigmoid', 'C': 1.0}) \n",
      "[CV]  vect__selected_model=('lemmatizer', {'ngram_range': (1, 4), 'stop_words': None, 'lowercase': False}), clf__selected_model=('svm-ker', {'kernel': 'rbf', 'C': 1000000000.0}), score=0.8564727954971857, total=50.5min\n",
      "[CV] vect__selected_model=('counter', {'ngram_range': (1, 3), 'stop_words': 'english', 'lowercase': True}), clf__selected_model=('svm-ker', {'kernel': 'sigmoid', 'C': 1.0}) \n",
      "[CV]  vect__selected_model=('lemmatizer', {'ngram_range': (1, 4), 'stop_words': None, 'lowercase': False}), clf__selected_model=('svm-ker', {'kernel': 'rbf', 'C': 1000000000.0}), score=0.851782363977486, total=50.5min\n",
      "[CV] vect__selected_model=('lemmatizer', {'ngram_range': (1, 4), 'stop_words': None, 'lowercase': False}), clf__selected_model=('svm-ker', {'kernel': 'rbf', 'C': 10000000.0}) \n",
      "[CV]  vect__selected_model=('counter', {'ngram_range': (1, 3), 'stop_words': 'english', 'lowercase': True}), clf__selected_model=('svm-ker', {'kernel': 'sigmoid', 'C': 1.0}), score=0.5028142589118199, total=19.8min\n",
      "[CV] vect__selected_model=('lemmatizer', {'ngram_range': (1, 4), 'stop_words': None, 'lowercase': False}), clf__selected_model=('svm-ker', {'kernel': 'rbf', 'C': 10000000.0}) \n",
      "[CV]  vect__selected_model=('counter', {'ngram_range': (1, 3), 'stop_words': 'english', 'lowercase': True}), clf__selected_model=('svm-ker', {'kernel': 'sigmoid', 'C': 1.0}), score=0.5028142589118199, total=10.5min\n",
      "[CV] vect__selected_model=('lemmatizer', {'ngram_range': (1, 4), 'stop_words': None, 'lowercase': False}), clf__selected_model=('svm-ker', {'kernel': 'rbf', 'C': 10000000.0}) \n",
      "[CV]  vect__selected_model=('lemmatizer', {'ngram_range': (1, 4), 'stop_words': None, 'lowercase': False}), clf__selected_model=('svm-ker', {'kernel': 'rbf', 'C': 10000000.0}), score=0.837863167760075, total=50.8min\n",
      "[CV] vect__selected_model=('snowball_stemmer', {'ngram_range': (1, 2), 'stop_words': None, 'lowercase': False}), clf__selected_model=('svm-ker', {'kernel': 'poly', 'C': 1000000.0}) \n",
      "[CV]  vect__selected_model=('lemmatizer', {'ngram_range': (1, 4), 'stop_words': None, 'lowercase': False}), clf__selected_model=('svm-ker', {'kernel': 'rbf', 'C': 10000000.0}), score=0.8564727954971857, total=50.7min\n",
      "[CV] vect__selected_model=('snowball_stemmer', {'ngram_range': (1, 2), 'stop_words': None, 'lowercase': False}), clf__selected_model=('svm-ker', {'kernel': 'poly', 'C': 1000000.0}) \n",
      "[CV]  vect__selected_model=('lemmatizer', {'ngram_range': (1, 4), 'stop_words': None, 'lowercase': False}), clf__selected_model=('svm-ker', {'kernel': 'rbf', 'C': 10000000.0}), score=0.851782363977486, total=51.0min\n",
      "[CV] vect__selected_model=('snowball_stemmer', {'ngram_range': (1, 2), 'stop_words': None, 'lowercase': False}), clf__selected_model=('svm-ker', {'kernel': 'poly', 'C': 1000000.0}) \n",
      "[CV]  vect__selected_model=('snowball_stemmer', {'ngram_range': (1, 2), 'stop_words': None, 'lowercase': False}), clf__selected_model=('svm-ker', {'kernel': 'poly', 'C': 1000000.0}), score=0.7582005623242737, total=11.2min\n",
      "[CV] vect__selected_model=('snowball_stemmer', {'ngram_range': (1, 3), 'stop_words': 'english', 'lowercase': True}), clf__selected_model=('svm-ker', {'kernel': 'poly', 'C': 1000000000.0}) \n",
      "[CV]  vect__selected_model=('snowball_stemmer', {'ngram_range': (1, 2), 'stop_words': None, 'lowercase': False}), clf__selected_model=('svm-ker', {'kernel': 'poly', 'C': 1000000.0}), score=0.7420262664165104, total= 3.9min\n",
      "[CV] vect__selected_model=('snowball_stemmer', {'ngram_range': (1, 3), 'stop_words': 'english', 'lowercase': True}), clf__selected_model=('svm-ker', {'kernel': 'poly', 'C': 1000000000.0}) \n",
      "[CV]  vect__selected_model=('snowball_stemmer', {'ngram_range': (1, 2), 'stop_words': None, 'lowercase': False}), clf__selected_model=('svm-ker', {'kernel': 'poly', 'C': 1000000.0}), score=0.7317073170731707, total= 3.9min\n",
      "[CV] vect__selected_model=('snowball_stemmer', {'ngram_range': (1, 3), 'stop_words': 'english', 'lowercase': True}), clf__selected_model=('svm-ker', {'kernel': 'poly', 'C': 1000000000.0}) \n",
      "[CV]  vect__selected_model=('snowball_stemmer', {'ngram_range': (1, 3), 'stop_words': 'english', 'lowercase': True}), clf__selected_model=('svm-ker', {'kernel': 'poly', 'C': 1000000000.0}), score=0.6785379568884724, total= 3.7min\n",
      "[CV]  vect__selected_model=('snowball_stemmer', {'ngram_range': (1, 3), 'stop_words': 'english', 'lowercase': True}), clf__selected_model=('svm-ker', {'kernel': 'poly', 'C': 1000000000.0}), score=0.6407129455909943, total= 3.8min\n",
      "[CV]  vect__selected_model=('snowball_stemmer', {'ngram_range': (1, 3), 'stop_words': 'english', 'lowercase': True}), clf__selected_model=('svm-ker', {'kernel': 'poly', 'C': 1000000000.0}), score=0.6378986866791745, total= 3.8min\n"
     ]
    },
    {
     "name": "stderr",
     "output_type": "stream",
     "text": [
      "[Parallel(n_jobs=3)]: Done  60 out of  60 | elapsed: 568.4min finished\n"
     ]
    },
    {
     "data": {
      "text/plain": [
       "0.8940293841825571"
      ]
     },
     "execution_count": 48,
     "metadata": {},
     "output_type": "execute_result"
    }
   ],
   "source": [
    "# define random search grid with cv\n",
    "rscv_clf = RandomizedSearchCV(estimator=pipeline, verbose=4,\n",
    "                              param_distributions=parameters,\n",
    "                              n_jobs=3, n_iter=20, cv=3, \n",
    "                              random_state=42)\n",
    "\n",
    "# fit model based\n",
    "rscv_clf_mod = rscv_clf.fit(x_train, y_train)\n",
    "\n",
    "# get best score from CV\n",
    "rscv_clf_mod.best_score_"
   ]
  },
  {
   "cell_type": "code",
   "execution_count": 49,
   "metadata": {},
   "outputs": [
    {
     "data": {
      "text/plain": [
       "{'clf__selected_model': ('svm-ker', {'C': 10000.0, 'kernel': 'rbf'}),\n",
       " 'vect__selected_model': ('porter_stemmer',\n",
       "  {'lowercase': True, 'ngram_range': (1, 4), 'stop_words': None})}"
      ]
     },
     "execution_count": 49,
     "metadata": {},
     "output_type": "execute_result"
    }
   ],
   "source": [
    "# get parameters for best score from CV\n",
    "rscv_clf_mod.best_params_"
   ]
  },
  {
   "cell_type": "code",
   "execution_count": 50,
   "metadata": {},
   "outputs": [
    {
     "name": "stdout",
     "output_type": "stream",
     "text": [
      "             precision    recall  f1-score   support\n",
      "\n",
      "       FAKE       0.86      0.94      0.90       383\n",
      "       REAL       0.94      0.86      0.90       417\n",
      "\n",
      "avg / total       0.90      0.90      0.90       800\n",
      "\n"
     ]
    }
   ],
   "source": [
    "# make predictions\n",
    "rscv_clf_pred = rscv_clf_mod.best_estimator_.predict(x_validation)\n",
    "\n",
    "# model evaluation\n",
    "print(metrics.classification_report(y_validation, rscv_clf_pred, digits=3))"
   ]
  },
  {
   "cell_type": "code",
   "execution_count": 55,
   "metadata": {},
   "outputs": [
    {
     "name": "stdout",
     "output_type": "stream",
     "text": [
      "Confusion matrix, without normalization\n",
      "[[360  23]\n",
      " [ 59 358]]\n",
      "Normalized confusion matrix\n",
      "[[0.94 0.06]\n",
      " [0.14 0.86]]\n"
     ]
    },
    {
     "data": {
      "image/png": "[encoded data removed]",
      "text/plain": [
       "<Figure size 432x288 with 2 Axes>"
      ]
     },
     "metadata": {},
     "output_type": "display_data"
    },
    {
     "data": {
      "image/png": "[encoded data removed]",
      "text/plain": [
       "<Figure size 432x288 with 2 Axes>"
      ]
     },
     "metadata": {},
     "output_type": "display_data"
    }
   ],
   "source": [
    "# confusion matrix library\n",
    "from sklearn.metrics import confusion_matrix\n",
    "\n",
    "# Compute confusion matrix\n",
    "cnf_matrix = confusion_matrix(y_validation, rscv_clf_pred)\n",
    "np.set_printoptions(precision=2)\n",
    "\n",
    "# Plot non-normalized confusion matrix\n",
    "plt.figure()\n",
    "plot_confusion_matrix(cnf_matrix, classes=label,\n",
    "                      title='Confusion matrix, without normalization')\n",
    "\n",
    "# Plot normalized confusion matrix\n",
    "plt.figure()\n",
    "plot_confusion_matrix(cnf_matrix, classes=label, normalize=True,\n",
    "                      title='Normalized confusion matrix')\n",
    "\n",
    "plt.show()"
   ]
  },
  {
   "cell_type": "markdown",
   "metadata": {},
   "source": [
    "### Model Pipeline 2\n",
    "Our second pipeline will introduce an tf-idf to see if some of our models improve."
   ]
  },
  {
   "cell_type": "markdown",
   "metadata": {},
   "source": [
    "#### Variable Selection"
   ]
  },
  {
   "cell_type": "code",
   "execution_count": 10,
   "metadata": {},
   "outputs": [],
   "source": [
    "# subset for orginal text\n",
    "df_model = df_train['title']"
   ]
  },
  {
   "cell_type": "markdown",
   "metadata": {},
   "source": [
    "#### Label"
   ]
  },
  {
   "cell_type": "code",
   "execution_count": 12,
   "metadata": {},
   "outputs": [],
   "source": [
    "# save label\n",
    "label = df_train.label"
   ]
  },
  {
   "cell_type": "markdown",
   "metadata": {},
   "source": [
    "#### Split training data"
   ]
  },
  {
   "cell_type": "code",
   "execution_count": 13,
   "metadata": {},
   "outputs": [],
   "source": [
    "# split training data and labels into train and validation 80/20\n",
    "x_train, x_validation, y_train, y_validation = train_test_split(df_model, label,\n",
    "                                                                test_size=0.2, random_state=42)"
   ]
  },
  {
   "cell_type": "code",
   "execution_count": 14,
   "metadata": {},
   "outputs": [],
   "source": [
    "# define pipeline (vectorizer, models)\n",
    "pipeline = Pipeline([('vect', PipelineHelper([\n",
    "                            ('counter', CountVectorizer()),\n",
    "                            ('snowball_stemmer', SnowballCountVectorizer()),\n",
    "                            ('porter_stemmer', PorterCountVectorizer()),\n",
    "                            ('lemmatizer', LemmatizerCountVectorizer()),\n",
    "                        ])),\n",
    "                     ('tf-idf', TfidfTransformer()),\n",
    "                     ('clf', PipelineHelper([\n",
    "                            ('svm', SGDClassifier()),\n",
    "                            ('multi_nb', MultinomialNB()),\n",
    "                        ])),\n",
    "                       ])"
   ]
  },
  {
   "cell_type": "markdown",
   "metadata": {},
   "source": [
    "#### Parameters\n",
    "We will extend the model parameters and hope to imporve our score."
   ]
  },
  {
   "cell_type": "code",
   "execution_count": 15,
   "metadata": {},
   "outputs": [],
   "source": [
    "# define pipline parameters\n",
    "parameters = {'vect__selected_model': pipeline.named_steps['vect'].generate({\n",
    "                  'counter__ngram_range': [(1, 1), (1, 2)],\n",
    "                  'counter__stop_words': ('english', None),\n",
    "                  'counter__lowercase': (True, False),\n",
    "                  'snowball_stemmer__ngram_range': [(1, 1), (1, 2)],\n",
    "                  'snowball_stemmer__stop_words': ('english', None),\n",
    "                  'snowball_stemmer__lowercase': (True, False),\n",
    "                  'porter_stemmer__ngram_range': [(1, 1), (1, 2)],\n",
    "                  'porter_stemmer__stop_words': ('english', None),\n",
    "                  'porter_stemmer__lowercase': (True, False),\n",
    "                  'lemmatizer__ngram_range': [(1, 1), (1, 2)],\n",
    "                  'lemmatizer__stop_words': ('english', None),\n",
    "                  'lemmatizer__lowercase': (True, False),\n",
    "                }),\n",
    "              'tf-idf__use_idf': (True, False),\n",
    "              'clf__selected_model': pipeline.named_steps['clf'].generate({\n",
    "                  'svm__alpha': (0.5, 1e-1, 1e-2, 1e-3, 1e-4, 1e-5, 1e-6),\n",
    "                  'svm__loss': ('hinge', 'squared_hinge'),\n",
    "                  'svm__l1_ratio': (0, 0.1, 0.25, 0.5, 0.75, 1.0),\n",
    "                  'multi_nb__alpha': (0.1, 0.25, 0.5, 0.75, 1)\n",
    "                })\n",
    "              }"
   ]
  },
  {
   "cell_type": "markdown",
   "metadata": {},
   "source": [
    "#### GridSearch"
   ]
  },
  {
   "cell_type": "code",
   "execution_count": 16,
   "metadata": {},
   "outputs": [
    {
     "name": "stdout",
     "output_type": "stream",
     "text": [
      "Fitting 3 folds for each of 30 candidates, totalling 90 fits\n"
     ]
    },
    {
     "name": "stderr",
     "output_type": "stream",
     "text": [
      "/anaconda/lib/python3.6/site-packages/sklearn/linear_model/stochastic_gradient.py:128: FutureWarning: max_iter and tol parameters have been added in <class 'sklearn.linear_model.stochastic_gradient.SGDClassifier'> in 0.19. If both are left unset, they default to max_iter=5 and tol=None. If tol is not None, max_iter defaults to max_iter=1000. From 0.21, default max_iter will be 1000, and default tol will be 1e-3.\n",
      "  \"and default tol will be 1e-3.\" % type(self), FutureWarning)\n",
      "/anaconda/lib/python3.6/site-packages/sklearn/linear_model/stochastic_gradient.py:128: FutureWarning: max_iter and tol parameters have been added in <class 'sklearn.linear_model.stochastic_gradient.SGDClassifier'> in 0.19. If both are left unset, they default to max_iter=5 and tol=None. If tol is not None, max_iter defaults to max_iter=1000. From 0.21, default max_iter will be 1000, and default tol will be 1e-3.\n",
      "  \"and default tol will be 1e-3.\" % type(self), FutureWarning)\n",
      "/anaconda/lib/python3.6/site-packages/sklearn/linear_model/stochastic_gradient.py:128: FutureWarning: max_iter and tol parameters have been added in <class 'sklearn.linear_model.stochastic_gradient.SGDClassifier'> in 0.19. If both are left unset, they default to max_iter=5 and tol=None. If tol is not None, max_iter defaults to max_iter=1000. From 0.21, default max_iter will be 1000, and default tol will be 1e-3.\n",
      "  \"and default tol will be 1e-3.\" % type(self), FutureWarning)\n",
      "/anaconda/lib/python3.6/site-packages/sklearn/linear_model/stochastic_gradient.py:128: FutureWarning: max_iter and tol parameters have been added in <class 'sklearn.linear_model.stochastic_gradient.SGDClassifier'> in 0.19. If both are left unset, they default to max_iter=5 and tol=None. If tol is not None, max_iter defaults to max_iter=1000. From 0.21, default max_iter will be 1000, and default tol will be 1e-3.\n",
      "  \"and default tol will be 1e-3.\" % type(self), FutureWarning)\n",
      "/anaconda/lib/python3.6/site-packages/sklearn/linear_model/stochastic_gradient.py:128: FutureWarning: max_iter and tol parameters have been added in <class 'sklearn.linear_model.stochastic_gradient.SGDClassifier'> in 0.19. If both are left unset, they default to max_iter=5 and tol=None. If tol is not None, max_iter defaults to max_iter=1000. From 0.21, default max_iter will be 1000, and default tol will be 1e-3.\n",
      "  \"and default tol will be 1e-3.\" % type(self), FutureWarning)\n",
      "/anaconda/lib/python3.6/site-packages/sklearn/linear_model/stochastic_gradient.py:128: FutureWarning: max_iter and tol parameters have been added in <class 'sklearn.linear_model.stochastic_gradient.SGDClassifier'> in 0.19. If both are left unset, they default to max_iter=5 and tol=None. If tol is not None, max_iter defaults to max_iter=1000. From 0.21, default max_iter will be 1000, and default tol will be 1e-3.\n",
      "  \"and default tol will be 1e-3.\" % type(self), FutureWarning)\n",
      "/anaconda/lib/python3.6/site-packages/sklearn/linear_model/stochastic_gradient.py:128: FutureWarning: max_iter and tol parameters have been added in <class 'sklearn.linear_model.stochastic_gradient.SGDClassifier'> in 0.19. If both are left unset, they default to max_iter=5 and tol=None. If tol is not None, max_iter defaults to max_iter=1000. From 0.21, default max_iter will be 1000, and default tol will be 1e-3.\n",
      "  \"and default tol will be 1e-3.\" % type(self), FutureWarning)\n",
      "/anaconda/lib/python3.6/site-packages/sklearn/linear_model/stochastic_gradient.py:128: FutureWarning: max_iter and tol parameters have been added in <class 'sklearn.linear_model.stochastic_gradient.SGDClassifier'> in 0.19. If both are left unset, they default to max_iter=5 and tol=None. If tol is not None, max_iter defaults to max_iter=1000. From 0.21, default max_iter will be 1000, and default tol will be 1e-3.\n",
      "  \"and default tol will be 1e-3.\" % type(self), FutureWarning)\n",
      "/anaconda/lib/python3.6/site-packages/sklearn/linear_model/stochastic_gradient.py:128: FutureWarning: max_iter and tol parameters have been added in <class 'sklearn.linear_model.stochastic_gradient.SGDClassifier'> in 0.19. If both are left unset, they default to max_iter=5 and tol=None. If tol is not None, max_iter defaults to max_iter=1000. From 0.21, default max_iter will be 1000, and default tol will be 1e-3.\n",
      "  \"and default tol will be 1e-3.\" % type(self), FutureWarning)\n",
      "/anaconda/lib/python3.6/site-packages/sklearn/linear_model/stochastic_gradient.py:128: FutureWarning: max_iter and tol parameters have been added in <class 'sklearn.linear_model.stochastic_gradient.SGDClassifier'> in 0.19. If both are left unset, they default to max_iter=5 and tol=None. If tol is not None, max_iter defaults to max_iter=1000. From 0.21, default max_iter will be 1000, and default tol will be 1e-3.\n",
      "  \"and default tol will be 1e-3.\" % type(self), FutureWarning)\n",
      "/anaconda/lib/python3.6/site-packages/sklearn/linear_model/stochastic_gradient.py:128: FutureWarning: max_iter and tol parameters have been added in <class 'sklearn.linear_model.stochastic_gradient.SGDClassifier'> in 0.19. If both are left unset, they default to max_iter=5 and tol=None. If tol is not None, max_iter defaults to max_iter=1000. From 0.21, default max_iter will be 1000, and default tol will be 1e-3.\n",
      "  \"and default tol will be 1e-3.\" % type(self), FutureWarning)\n",
      "/anaconda/lib/python3.6/site-packages/sklearn/linear_model/stochastic_gradient.py:128: FutureWarning: max_iter and tol parameters have been added in <class 'sklearn.linear_model.stochastic_gradient.SGDClassifier'> in 0.19. If both are left unset, they default to max_iter=5 and tol=None. If tol is not None, max_iter defaults to max_iter=1000. From 0.21, default max_iter will be 1000, and default tol will be 1e-3.\n",
      "  \"and default tol will be 1e-3.\" % type(self), FutureWarning)\n",
      "/anaconda/lib/python3.6/site-packages/sklearn/linear_model/stochastic_gradient.py:128: FutureWarning: max_iter and tol parameters have been added in <class 'sklearn.linear_model.stochastic_gradient.SGDClassifier'> in 0.19. If both are left unset, they default to max_iter=5 and tol=None. If tol is not None, max_iter defaults to max_iter=1000. From 0.21, default max_iter will be 1000, and default tol will be 1e-3.\n",
      "  \"and default tol will be 1e-3.\" % type(self), FutureWarning)\n",
      "/anaconda/lib/python3.6/site-packages/sklearn/linear_model/stochastic_gradient.py:128: FutureWarning: max_iter and tol parameters have been added in <class 'sklearn.linear_model.stochastic_gradient.SGDClassifier'> in 0.19. If both are left unset, they default to max_iter=5 and tol=None. If tol is not None, max_iter defaults to max_iter=1000. From 0.21, default max_iter will be 1000, and default tol will be 1e-3.\n",
      "  \"and default tol will be 1e-3.\" % type(self), FutureWarning)\n",
      "/anaconda/lib/python3.6/site-packages/sklearn/linear_model/stochastic_gradient.py:128: FutureWarning: max_iter and tol parameters have been added in <class 'sklearn.linear_model.stochastic_gradient.SGDClassifier'> in 0.19. If both are left unset, they default to max_iter=5 and tol=None. If tol is not None, max_iter defaults to max_iter=1000. From 0.21, default max_iter will be 1000, and default tol will be 1e-3.\n",
      "  \"and default tol will be 1e-3.\" % type(self), FutureWarning)\n",
      "/anaconda/lib/python3.6/site-packages/sklearn/linear_model/stochastic_gradient.py:128: FutureWarning: max_iter and tol parameters have been added in <class 'sklearn.linear_model.stochastic_gradient.SGDClassifier'> in 0.19. If both are left unset, they default to max_iter=5 and tol=None. If tol is not None, max_iter defaults to max_iter=1000. From 0.21, default max_iter will be 1000, and default tol will be 1e-3.\n",
      "  \"and default tol will be 1e-3.\" % type(self), FutureWarning)\n",
      "/anaconda/lib/python3.6/site-packages/sklearn/linear_model/stochastic_gradient.py:128: FutureWarning: max_iter and tol parameters have been added in <class 'sklearn.linear_model.stochastic_gradient.SGDClassifier'> in 0.19. If both are left unset, they default to max_iter=5 and tol=None. If tol is not None, max_iter defaults to max_iter=1000. From 0.21, default max_iter will be 1000, and default tol will be 1e-3.\n",
      "  \"and default tol will be 1e-3.\" % type(self), FutureWarning)\n",
      "/anaconda/lib/python3.6/site-packages/sklearn/linear_model/stochastic_gradient.py:128: FutureWarning: max_iter and tol parameters have been added in <class 'sklearn.linear_model.stochastic_gradient.SGDClassifier'> in 0.19. If both are left unset, they default to max_iter=5 and tol=None. If tol is not None, max_iter defaults to max_iter=1000. From 0.21, default max_iter will be 1000, and default tol will be 1e-3.\n",
      "  \"and default tol will be 1e-3.\" % type(self), FutureWarning)\n"
     ]
    },
    {
     "name": "stderr",
     "output_type": "stream",
     "text": [
      "/anaconda/lib/python3.6/site-packages/sklearn/linear_model/stochastic_gradient.py:128: FutureWarning: max_iter and tol parameters have been added in <class 'sklearn.linear_model.stochastic_gradient.SGDClassifier'> in 0.19. If both are left unset, they default to max_iter=5 and tol=None. If tol is not None, max_iter defaults to max_iter=1000. From 0.21, default max_iter will be 1000, and default tol will be 1e-3.\n",
      "  \"and default tol will be 1e-3.\" % type(self), FutureWarning)\n",
      "/anaconda/lib/python3.6/site-packages/sklearn/linear_model/stochastic_gradient.py:128: FutureWarning: max_iter and tol parameters have been added in <class 'sklearn.linear_model.stochastic_gradient.SGDClassifier'> in 0.19. If both are left unset, they default to max_iter=5 and tol=None. If tol is not None, max_iter defaults to max_iter=1000. From 0.21, default max_iter will be 1000, and default tol will be 1e-3.\n",
      "  \"and default tol will be 1e-3.\" % type(self), FutureWarning)\n",
      "/anaconda/lib/python3.6/site-packages/sklearn/linear_model/stochastic_gradient.py:128: FutureWarning: max_iter and tol parameters have been added in <class 'sklearn.linear_model.stochastic_gradient.SGDClassifier'> in 0.19. If both are left unset, they default to max_iter=5 and tol=None. If tol is not None, max_iter defaults to max_iter=1000. From 0.21, default max_iter will be 1000, and default tol will be 1e-3.\n",
      "  \"and default tol will be 1e-3.\" % type(self), FutureWarning)\n",
      "/anaconda/lib/python3.6/site-packages/sklearn/linear_model/stochastic_gradient.py:128: FutureWarning: max_iter and tol parameters have been added in <class 'sklearn.linear_model.stochastic_gradient.SGDClassifier'> in 0.19. If both are left unset, they default to max_iter=5 and tol=None. If tol is not None, max_iter defaults to max_iter=1000. From 0.21, default max_iter will be 1000, and default tol will be 1e-3.\n",
      "  \"and default tol will be 1e-3.\" % type(self), FutureWarning)\n",
      "/anaconda/lib/python3.6/site-packages/sklearn/linear_model/stochastic_gradient.py:128: FutureWarning: max_iter and tol parameters have been added in <class 'sklearn.linear_model.stochastic_gradient.SGDClassifier'> in 0.19. If both are left unset, they default to max_iter=5 and tol=None. If tol is not None, max_iter defaults to max_iter=1000. From 0.21, default max_iter will be 1000, and default tol will be 1e-3.\n",
      "  \"and default tol will be 1e-3.\" % type(self), FutureWarning)\n",
      "/anaconda/lib/python3.6/site-packages/sklearn/linear_model/stochastic_gradient.py:128: FutureWarning: max_iter and tol parameters have been added in <class 'sklearn.linear_model.stochastic_gradient.SGDClassifier'> in 0.19. If both are left unset, they default to max_iter=5 and tol=None. If tol is not None, max_iter defaults to max_iter=1000. From 0.21, default max_iter will be 1000, and default tol will be 1e-3.\n",
      "  \"and default tol will be 1e-3.\" % type(self), FutureWarning)\n",
      "/anaconda/lib/python3.6/site-packages/sklearn/linear_model/stochastic_gradient.py:128: FutureWarning: max_iter and tol parameters have been added in <class 'sklearn.linear_model.stochastic_gradient.SGDClassifier'> in 0.19. If both are left unset, they default to max_iter=5 and tol=None. If tol is not None, max_iter defaults to max_iter=1000. From 0.21, default max_iter will be 1000, and default tol will be 1e-3.\n",
      "  \"and default tol will be 1e-3.\" % type(self), FutureWarning)\n",
      "/anaconda/lib/python3.6/site-packages/sklearn/linear_model/stochastic_gradient.py:128: FutureWarning: max_iter and tol parameters have been added in <class 'sklearn.linear_model.stochastic_gradient.SGDClassifier'> in 0.19. If both are left unset, they default to max_iter=5 and tol=None. If tol is not None, max_iter defaults to max_iter=1000. From 0.21, default max_iter will be 1000, and default tol will be 1e-3.\n",
      "  \"and default tol will be 1e-3.\" % type(self), FutureWarning)\n",
      "/anaconda/lib/python3.6/site-packages/sklearn/linear_model/stochastic_gradient.py:128: FutureWarning: max_iter and tol parameters have been added in <class 'sklearn.linear_model.stochastic_gradient.SGDClassifier'> in 0.19. If both are left unset, they default to max_iter=5 and tol=None. If tol is not None, max_iter defaults to max_iter=1000. From 0.21, default max_iter will be 1000, and default tol will be 1e-3.\n",
      "  \"and default tol will be 1e-3.\" % type(self), FutureWarning)\n",
      "/anaconda/lib/python3.6/site-packages/sklearn/linear_model/stochastic_gradient.py:128: FutureWarning: max_iter and tol parameters have been added in <class 'sklearn.linear_model.stochastic_gradient.SGDClassifier'> in 0.19. If both are left unset, they default to max_iter=5 and tol=None. If tol is not None, max_iter defaults to max_iter=1000. From 0.21, default max_iter will be 1000, and default tol will be 1e-3.\n",
      "  \"and default tol will be 1e-3.\" % type(self), FutureWarning)\n",
      "/anaconda/lib/python3.6/site-packages/sklearn/linear_model/stochastic_gradient.py:128: FutureWarning: max_iter and tol parameters have been added in <class 'sklearn.linear_model.stochastic_gradient.SGDClassifier'> in 0.19. If both are left unset, they default to max_iter=5 and tol=None. If tol is not None, max_iter defaults to max_iter=1000. From 0.21, default max_iter will be 1000, and default tol will be 1e-3.\n",
      "  \"and default tol will be 1e-3.\" % type(self), FutureWarning)\n",
      "/anaconda/lib/python3.6/site-packages/sklearn/linear_model/stochastic_gradient.py:128: FutureWarning: max_iter and tol parameters have been added in <class 'sklearn.linear_model.stochastic_gradient.SGDClassifier'> in 0.19. If both are left unset, they default to max_iter=5 and tol=None. If tol is not None, max_iter defaults to max_iter=1000. From 0.21, default max_iter will be 1000, and default tol will be 1e-3.\n",
      "  \"and default tol will be 1e-3.\" % type(self), FutureWarning)\n",
      "/anaconda/lib/python3.6/site-packages/sklearn/linear_model/stochastic_gradient.py:128: FutureWarning: max_iter and tol parameters have been added in <class 'sklearn.linear_model.stochastic_gradient.SGDClassifier'> in 0.19. If both are left unset, they default to max_iter=5 and tol=None. If tol is not None, max_iter defaults to max_iter=1000. From 0.21, default max_iter will be 1000, and default tol will be 1e-3.\n",
      "  \"and default tol will be 1e-3.\" % type(self), FutureWarning)\n",
      "/anaconda/lib/python3.6/site-packages/sklearn/linear_model/stochastic_gradient.py:128: FutureWarning: max_iter and tol parameters have been added in <class 'sklearn.linear_model.stochastic_gradient.SGDClassifier'> in 0.19. If both are left unset, they default to max_iter=5 and tol=None. If tol is not None, max_iter defaults to max_iter=1000. From 0.21, default max_iter will be 1000, and default tol will be 1e-3.\n",
      "  \"and default tol will be 1e-3.\" % type(self), FutureWarning)\n",
      "/anaconda/lib/python3.6/site-packages/sklearn/linear_model/stochastic_gradient.py:128: FutureWarning: max_iter and tol parameters have been added in <class 'sklearn.linear_model.stochastic_gradient.SGDClassifier'> in 0.19. If both are left unset, they default to max_iter=5 and tol=None. If tol is not None, max_iter defaults to max_iter=1000. From 0.21, default max_iter will be 1000, and default tol will be 1e-3.\n",
      "  \"and default tol will be 1e-3.\" % type(self), FutureWarning)\n",
      "/anaconda/lib/python3.6/site-packages/sklearn/linear_model/stochastic_gradient.py:128: FutureWarning: max_iter and tol parameters have been added in <class 'sklearn.linear_model.stochastic_gradient.SGDClassifier'> in 0.19. If both are left unset, they default to max_iter=5 and tol=None. If tol is not None, max_iter defaults to max_iter=1000. From 0.21, default max_iter will be 1000, and default tol will be 1e-3.\n",
      "  \"and default tol will be 1e-3.\" % type(self), FutureWarning)\n",
      "/anaconda/lib/python3.6/site-packages/sklearn/linear_model/stochastic_gradient.py:128: FutureWarning: max_iter and tol parameters have been added in <class 'sklearn.linear_model.stochastic_gradient.SGDClassifier'> in 0.19. If both are left unset, they default to max_iter=5 and tol=None. If tol is not None, max_iter defaults to max_iter=1000. From 0.21, default max_iter will be 1000, and default tol will be 1e-3.\n",
      "  \"and default tol will be 1e-3.\" % type(self), FutureWarning)\n",
      "/anaconda/lib/python3.6/site-packages/sklearn/linear_model/stochastic_gradient.py:128: FutureWarning: max_iter and tol parameters have been added in <class 'sklearn.linear_model.stochastic_gradient.SGDClassifier'> in 0.19. If both are left unset, they default to max_iter=5 and tol=None. If tol is not None, max_iter defaults to max_iter=1000. From 0.21, default max_iter will be 1000, and default tol will be 1e-3.\n",
      "  \"and default tol will be 1e-3.\" % type(self), FutureWarning)\n"
     ]
    },
    {
     "name": "stderr",
     "output_type": "stream",
     "text": [
      "/anaconda/lib/python3.6/site-packages/sklearn/linear_model/stochastic_gradient.py:128: FutureWarning: max_iter and tol parameters have been added in <class 'sklearn.linear_model.stochastic_gradient.SGDClassifier'> in 0.19. If both are left unset, they default to max_iter=5 and tol=None. If tol is not None, max_iter defaults to max_iter=1000. From 0.21, default max_iter will be 1000, and default tol will be 1e-3.\n",
      "  \"and default tol will be 1e-3.\" % type(self), FutureWarning)\n",
      "/anaconda/lib/python3.6/site-packages/sklearn/linear_model/stochastic_gradient.py:128: FutureWarning: max_iter and tol parameters have been added in <class 'sklearn.linear_model.stochastic_gradient.SGDClassifier'> in 0.19. If both are left unset, they default to max_iter=5 and tol=None. If tol is not None, max_iter defaults to max_iter=1000. From 0.21, default max_iter will be 1000, and default tol will be 1e-3.\n",
      "  \"and default tol will be 1e-3.\" % type(self), FutureWarning)\n",
      "/anaconda/lib/python3.6/site-packages/sklearn/linear_model/stochastic_gradient.py:128: FutureWarning: max_iter and tol parameters have been added in <class 'sklearn.linear_model.stochastic_gradient.SGDClassifier'> in 0.19. If both are left unset, they default to max_iter=5 and tol=None. If tol is not None, max_iter defaults to max_iter=1000. From 0.21, default max_iter will be 1000, and default tol will be 1e-3.\n",
      "  \"and default tol will be 1e-3.\" % type(self), FutureWarning)\n",
      "/anaconda/lib/python3.6/site-packages/sklearn/linear_model/stochastic_gradient.py:128: FutureWarning: max_iter and tol parameters have been added in <class 'sklearn.linear_model.stochastic_gradient.SGDClassifier'> in 0.19. If both are left unset, they default to max_iter=5 and tol=None. If tol is not None, max_iter defaults to max_iter=1000. From 0.21, default max_iter will be 1000, and default tol will be 1e-3.\n",
      "  \"and default tol will be 1e-3.\" % type(self), FutureWarning)\n",
      "/anaconda/lib/python3.6/site-packages/sklearn/linear_model/stochastic_gradient.py:128: FutureWarning: max_iter and tol parameters have been added in <class 'sklearn.linear_model.stochastic_gradient.SGDClassifier'> in 0.19. If both are left unset, they default to max_iter=5 and tol=None. If tol is not None, max_iter defaults to max_iter=1000. From 0.21, default max_iter will be 1000, and default tol will be 1e-3.\n",
      "  \"and default tol will be 1e-3.\" % type(self), FutureWarning)\n",
      "/anaconda/lib/python3.6/site-packages/sklearn/linear_model/stochastic_gradient.py:128: FutureWarning: max_iter and tol parameters have been added in <class 'sklearn.linear_model.stochastic_gradient.SGDClassifier'> in 0.19. If both are left unset, they default to max_iter=5 and tol=None. If tol is not None, max_iter defaults to max_iter=1000. From 0.21, default max_iter will be 1000, and default tol will be 1e-3.\n",
      "  \"and default tol will be 1e-3.\" % type(self), FutureWarning)\n",
      "[Parallel(n_jobs=3)]: Done  44 tasks      | elapsed:   31.2s\n",
      "/anaconda/lib/python3.6/site-packages/sklearn/linear_model/stochastic_gradient.py:128: FutureWarning: max_iter and tol parameters have been added in <class 'sklearn.linear_model.stochastic_gradient.SGDClassifier'> in 0.19. If both are left unset, they default to max_iter=5 and tol=None. If tol is not None, max_iter defaults to max_iter=1000. From 0.21, default max_iter will be 1000, and default tol will be 1e-3.\n",
      "  \"and default tol will be 1e-3.\" % type(self), FutureWarning)\n",
      "/anaconda/lib/python3.6/site-packages/sklearn/linear_model/stochastic_gradient.py:128: FutureWarning: max_iter and tol parameters have been added in <class 'sklearn.linear_model.stochastic_gradient.SGDClassifier'> in 0.19. If both are left unset, they default to max_iter=5 and tol=None. If tol is not None, max_iter defaults to max_iter=1000. From 0.21, default max_iter will be 1000, and default tol will be 1e-3.\n",
      "  \"and default tol will be 1e-3.\" % type(self), FutureWarning)\n",
      "/anaconda/lib/python3.6/site-packages/sklearn/linear_model/stochastic_gradient.py:128: FutureWarning: max_iter and tol parameters have been added in <class 'sklearn.linear_model.stochastic_gradient.SGDClassifier'> in 0.19. If both are left unset, they default to max_iter=5 and tol=None. If tol is not None, max_iter defaults to max_iter=1000. From 0.21, default max_iter will be 1000, and default tol will be 1e-3.\n",
      "  \"and default tol will be 1e-3.\" % type(self), FutureWarning)\n",
      "/anaconda/lib/python3.6/site-packages/sklearn/linear_model/stochastic_gradient.py:128: FutureWarning: max_iter and tol parameters have been added in <class 'sklearn.linear_model.stochastic_gradient.SGDClassifier'> in 0.19. If both are left unset, they default to max_iter=5 and tol=None. If tol is not None, max_iter defaults to max_iter=1000. From 0.21, default max_iter will be 1000, and default tol will be 1e-3.\n",
      "  \"and default tol will be 1e-3.\" % type(self), FutureWarning)\n",
      "/anaconda/lib/python3.6/site-packages/sklearn/linear_model/stochastic_gradient.py:128: FutureWarning: max_iter and tol parameters have been added in <class 'sklearn.linear_model.stochastic_gradient.SGDClassifier'> in 0.19. If both are left unset, they default to max_iter=5 and tol=None. If tol is not None, max_iter defaults to max_iter=1000. From 0.21, default max_iter will be 1000, and default tol will be 1e-3.\n",
      "  \"and default tol will be 1e-3.\" % type(self), FutureWarning)\n",
      "/anaconda/lib/python3.6/site-packages/sklearn/linear_model/stochastic_gradient.py:128: FutureWarning: max_iter and tol parameters have been added in <class 'sklearn.linear_model.stochastic_gradient.SGDClassifier'> in 0.19. If both are left unset, they default to max_iter=5 and tol=None. If tol is not None, max_iter defaults to max_iter=1000. From 0.21, default max_iter will be 1000, and default tol will be 1e-3.\n",
      "  \"and default tol will be 1e-3.\" % type(self), FutureWarning)\n",
      "/anaconda/lib/python3.6/site-packages/sklearn/linear_model/stochastic_gradient.py:128: FutureWarning: max_iter and tol parameters have been added in <class 'sklearn.linear_model.stochastic_gradient.SGDClassifier'> in 0.19. If both are left unset, they default to max_iter=5 and tol=None. If tol is not None, max_iter defaults to max_iter=1000. From 0.21, default max_iter will be 1000, and default tol will be 1e-3.\n",
      "  \"and default tol will be 1e-3.\" % type(self), FutureWarning)\n",
      "/anaconda/lib/python3.6/site-packages/sklearn/linear_model/stochastic_gradient.py:128: FutureWarning: max_iter and tol parameters have been added in <class 'sklearn.linear_model.stochastic_gradient.SGDClassifier'> in 0.19. If both are left unset, they default to max_iter=5 and tol=None. If tol is not None, max_iter defaults to max_iter=1000. From 0.21, default max_iter will be 1000, and default tol will be 1e-3.\n",
      "  \"and default tol will be 1e-3.\" % type(self), FutureWarning)\n",
      "/anaconda/lib/python3.6/site-packages/sklearn/linear_model/stochastic_gradient.py:128: FutureWarning: max_iter and tol parameters have been added in <class 'sklearn.linear_model.stochastic_gradient.SGDClassifier'> in 0.19. If both are left unset, they default to max_iter=5 and tol=None. If tol is not None, max_iter defaults to max_iter=1000. From 0.21, default max_iter will be 1000, and default tol will be 1e-3.\n",
      "  \"and default tol will be 1e-3.\" % type(self), FutureWarning)\n",
      "/anaconda/lib/python3.6/site-packages/sklearn/linear_model/stochastic_gradient.py:128: FutureWarning: max_iter and tol parameters have been added in <class 'sklearn.linear_model.stochastic_gradient.SGDClassifier'> in 0.19. If both are left unset, they default to max_iter=5 and tol=None. If tol is not None, max_iter defaults to max_iter=1000. From 0.21, default max_iter will be 1000, and default tol will be 1e-3.\n",
      "  \"and default tol will be 1e-3.\" % type(self), FutureWarning)\n",
      "/anaconda/lib/python3.6/site-packages/sklearn/linear_model/stochastic_gradient.py:128: FutureWarning: max_iter and tol parameters have been added in <class 'sklearn.linear_model.stochastic_gradient.SGDClassifier'> in 0.19. If both are left unset, they default to max_iter=5 and tol=None. If tol is not None, max_iter defaults to max_iter=1000. From 0.21, default max_iter will be 1000, and default tol will be 1e-3.\n",
      "  \"and default tol will be 1e-3.\" % type(self), FutureWarning)\n"
     ]
    },
    {
     "name": "stderr",
     "output_type": "stream",
     "text": [
      "/anaconda/lib/python3.6/site-packages/sklearn/linear_model/stochastic_gradient.py:128: FutureWarning: max_iter and tol parameters have been added in <class 'sklearn.linear_model.stochastic_gradient.SGDClassifier'> in 0.19. If both are left unset, they default to max_iter=5 and tol=None. If tol is not None, max_iter defaults to max_iter=1000. From 0.21, default max_iter will be 1000, and default tol will be 1e-3.\n",
      "  \"and default tol will be 1e-3.\" % type(self), FutureWarning)\n",
      "/anaconda/lib/python3.6/site-packages/sklearn/linear_model/stochastic_gradient.py:128: FutureWarning: max_iter and tol parameters have been added in <class 'sklearn.linear_model.stochastic_gradient.SGDClassifier'> in 0.19. If both are left unset, they default to max_iter=5 and tol=None. If tol is not None, max_iter defaults to max_iter=1000. From 0.21, default max_iter will be 1000, and default tol will be 1e-3.\n",
      "  \"and default tol will be 1e-3.\" % type(self), FutureWarning)\n",
      "/anaconda/lib/python3.6/site-packages/sklearn/linear_model/stochastic_gradient.py:128: FutureWarning: max_iter and tol parameters have been added in <class 'sklearn.linear_model.stochastic_gradient.SGDClassifier'> in 0.19. If both are left unset, they default to max_iter=5 and tol=None. If tol is not None, max_iter defaults to max_iter=1000. From 0.21, default max_iter will be 1000, and default tol will be 1e-3.\n",
      "  \"and default tol will be 1e-3.\" % type(self), FutureWarning)\n",
      "/anaconda/lib/python3.6/site-packages/sklearn/linear_model/stochastic_gradient.py:128: FutureWarning: max_iter and tol parameters have been added in <class 'sklearn.linear_model.stochastic_gradient.SGDClassifier'> in 0.19. If both are left unset, they default to max_iter=5 and tol=None. If tol is not None, max_iter defaults to max_iter=1000. From 0.21, default max_iter will be 1000, and default tol will be 1e-3.\n",
      "  \"and default tol will be 1e-3.\" % type(self), FutureWarning)\n",
      "/anaconda/lib/python3.6/site-packages/sklearn/linear_model/stochastic_gradient.py:128: FutureWarning: max_iter and tol parameters have been added in <class 'sklearn.linear_model.stochastic_gradient.SGDClassifier'> in 0.19. If both are left unset, they default to max_iter=5 and tol=None. If tol is not None, max_iter defaults to max_iter=1000. From 0.21, default max_iter will be 1000, and default tol will be 1e-3.\n",
      "  \"and default tol will be 1e-3.\" % type(self), FutureWarning)\n",
      "/anaconda/lib/python3.6/site-packages/sklearn/linear_model/stochastic_gradient.py:128: FutureWarning: max_iter and tol parameters have been added in <class 'sklearn.linear_model.stochastic_gradient.SGDClassifier'> in 0.19. If both are left unset, they default to max_iter=5 and tol=None. If tol is not None, max_iter defaults to max_iter=1000. From 0.21, default max_iter will be 1000, and default tol will be 1e-3.\n",
      "  \"and default tol will be 1e-3.\" % type(self), FutureWarning)\n",
      "/anaconda/lib/python3.6/site-packages/sklearn/linear_model/stochastic_gradient.py:128: FutureWarning: max_iter and tol parameters have been added in <class 'sklearn.linear_model.stochastic_gradient.SGDClassifier'> in 0.19. If both are left unset, they default to max_iter=5 and tol=None. If tol is not None, max_iter defaults to max_iter=1000. From 0.21, default max_iter will be 1000, and default tol will be 1e-3.\n",
      "  \"and default tol will be 1e-3.\" % type(self), FutureWarning)\n",
      "/anaconda/lib/python3.6/site-packages/sklearn/linear_model/stochastic_gradient.py:128: FutureWarning: max_iter and tol parameters have been added in <class 'sklearn.linear_model.stochastic_gradient.SGDClassifier'> in 0.19. If both are left unset, they default to max_iter=5 and tol=None. If tol is not None, max_iter defaults to max_iter=1000. From 0.21, default max_iter will be 1000, and default tol will be 1e-3.\n",
      "  \"and default tol will be 1e-3.\" % type(self), FutureWarning)\n",
      "/anaconda/lib/python3.6/site-packages/sklearn/linear_model/stochastic_gradient.py:128: FutureWarning: max_iter and tol parameters have been added in <class 'sklearn.linear_model.stochastic_gradient.SGDClassifier'> in 0.19. If both are left unset, they default to max_iter=5 and tol=None. If tol is not None, max_iter defaults to max_iter=1000. From 0.21, default max_iter will be 1000, and default tol will be 1e-3.\n",
      "  \"and default tol will be 1e-3.\" % type(self), FutureWarning)\n",
      "/anaconda/lib/python3.6/site-packages/sklearn/linear_model/stochastic_gradient.py:128: FutureWarning: max_iter and tol parameters have been added in <class 'sklearn.linear_model.stochastic_gradient.SGDClassifier'> in 0.19. If both are left unset, they default to max_iter=5 and tol=None. If tol is not None, max_iter defaults to max_iter=1000. From 0.21, default max_iter will be 1000, and default tol will be 1e-3.\n",
      "  \"and default tol will be 1e-3.\" % type(self), FutureWarning)\n",
      "/anaconda/lib/python3.6/site-packages/sklearn/linear_model/stochastic_gradient.py:128: FutureWarning: max_iter and tol parameters have been added in <class 'sklearn.linear_model.stochastic_gradient.SGDClassifier'> in 0.19. If both are left unset, they default to max_iter=5 and tol=None. If tol is not None, max_iter defaults to max_iter=1000. From 0.21, default max_iter will be 1000, and default tol will be 1e-3.\n",
      "  \"and default tol will be 1e-3.\" % type(self), FutureWarning)\n",
      "/anaconda/lib/python3.6/site-packages/sklearn/linear_model/stochastic_gradient.py:128: FutureWarning: max_iter and tol parameters have been added in <class 'sklearn.linear_model.stochastic_gradient.SGDClassifier'> in 0.19. If both are left unset, they default to max_iter=5 and tol=None. If tol is not None, max_iter defaults to max_iter=1000. From 0.21, default max_iter will be 1000, and default tol will be 1e-3.\n",
      "  \"and default tol will be 1e-3.\" % type(self), FutureWarning)\n",
      "/anaconda/lib/python3.6/site-packages/sklearn/linear_model/stochastic_gradient.py:128: FutureWarning: max_iter and tol parameters have been added in <class 'sklearn.linear_model.stochastic_gradient.SGDClassifier'> in 0.19. If both are left unset, they default to max_iter=5 and tol=None. If tol is not None, max_iter defaults to max_iter=1000. From 0.21, default max_iter will be 1000, and default tol will be 1e-3.\n",
      "  \"and default tol will be 1e-3.\" % type(self), FutureWarning)\n",
      "/anaconda/lib/python3.6/site-packages/sklearn/linear_model/stochastic_gradient.py:128: FutureWarning: max_iter and tol parameters have been added in <class 'sklearn.linear_model.stochastic_gradient.SGDClassifier'> in 0.19. If both are left unset, they default to max_iter=5 and tol=None. If tol is not None, max_iter defaults to max_iter=1000. From 0.21, default max_iter will be 1000, and default tol will be 1e-3.\n",
      "  \"and default tol will be 1e-3.\" % type(self), FutureWarning)\n",
      "/anaconda/lib/python3.6/site-packages/sklearn/linear_model/stochastic_gradient.py:128: FutureWarning: max_iter and tol parameters have been added in <class 'sklearn.linear_model.stochastic_gradient.SGDClassifier'> in 0.19. If both are left unset, they default to max_iter=5 and tol=None. If tol is not None, max_iter defaults to max_iter=1000. From 0.21, default max_iter will be 1000, and default tol will be 1e-3.\n",
      "  \"and default tol will be 1e-3.\" % type(self), FutureWarning)\n",
      "/anaconda/lib/python3.6/site-packages/sklearn/linear_model/stochastic_gradient.py:128: FutureWarning: max_iter and tol parameters have been added in <class 'sklearn.linear_model.stochastic_gradient.SGDClassifier'> in 0.19. If both are left unset, they default to max_iter=5 and tol=None. If tol is not None, max_iter defaults to max_iter=1000. From 0.21, default max_iter will be 1000, and default tol will be 1e-3.\n",
      "  \"and default tol will be 1e-3.\" % type(self), FutureWarning)\n",
      "/anaconda/lib/python3.6/site-packages/sklearn/linear_model/stochastic_gradient.py:128: FutureWarning: max_iter and tol parameters have been added in <class 'sklearn.linear_model.stochastic_gradient.SGDClassifier'> in 0.19. If both are left unset, they default to max_iter=5 and tol=None. If tol is not None, max_iter defaults to max_iter=1000. From 0.21, default max_iter will be 1000, and default tol will be 1e-3.\n",
      "  \"and default tol will be 1e-3.\" % type(self), FutureWarning)\n",
      "/anaconda/lib/python3.6/site-packages/sklearn/linear_model/stochastic_gradient.py:128: FutureWarning: max_iter and tol parameters have been added in <class 'sklearn.linear_model.stochastic_gradient.SGDClassifier'> in 0.19. If both are left unset, they default to max_iter=5 and tol=None. If tol is not None, max_iter defaults to max_iter=1000. From 0.21, default max_iter will be 1000, and default tol will be 1e-3.\n",
      "  \"and default tol will be 1e-3.\" % type(self), FutureWarning)\n"
     ]
    },
    {
     "name": "stderr",
     "output_type": "stream",
     "text": [
      "/anaconda/lib/python3.6/site-packages/sklearn/linear_model/stochastic_gradient.py:128: FutureWarning: max_iter and tol parameters have been added in <class 'sklearn.linear_model.stochastic_gradient.SGDClassifier'> in 0.19. If both are left unset, they default to max_iter=5 and tol=None. If tol is not None, max_iter defaults to max_iter=1000. From 0.21, default max_iter will be 1000, and default tol will be 1e-3.\n",
      "  \"and default tol will be 1e-3.\" % type(self), FutureWarning)\n",
      "/anaconda/lib/python3.6/site-packages/sklearn/linear_model/stochastic_gradient.py:128: FutureWarning: max_iter and tol parameters have been added in <class 'sklearn.linear_model.stochastic_gradient.SGDClassifier'> in 0.19. If both are left unset, they default to max_iter=5 and tol=None. If tol is not None, max_iter defaults to max_iter=1000. From 0.21, default max_iter will be 1000, and default tol will be 1e-3.\n",
      "  \"and default tol will be 1e-3.\" % type(self), FutureWarning)\n",
      "/anaconda/lib/python3.6/site-packages/sklearn/linear_model/stochastic_gradient.py:128: FutureWarning: max_iter and tol parameters have been added in <class 'sklearn.linear_model.stochastic_gradient.SGDClassifier'> in 0.19. If both are left unset, they default to max_iter=5 and tol=None. If tol is not None, max_iter defaults to max_iter=1000. From 0.21, default max_iter will be 1000, and default tol will be 1e-3.\n",
      "  \"and default tol will be 1e-3.\" % type(self), FutureWarning)\n",
      "/anaconda/lib/python3.6/site-packages/sklearn/linear_model/stochastic_gradient.py:128: FutureWarning: max_iter and tol parameters have been added in <class 'sklearn.linear_model.stochastic_gradient.SGDClassifier'> in 0.19. If both are left unset, they default to max_iter=5 and tol=None. If tol is not None, max_iter defaults to max_iter=1000. From 0.21, default max_iter will be 1000, and default tol will be 1e-3.\n",
      "  \"and default tol will be 1e-3.\" % type(self), FutureWarning)\n",
      "/anaconda/lib/python3.6/site-packages/sklearn/linear_model/stochastic_gradient.py:128: FutureWarning: max_iter and tol parameters have been added in <class 'sklearn.linear_model.stochastic_gradient.SGDClassifier'> in 0.19. If both are left unset, they default to max_iter=5 and tol=None. If tol is not None, max_iter defaults to max_iter=1000. From 0.21, default max_iter will be 1000, and default tol will be 1e-3.\n",
      "  \"and default tol will be 1e-3.\" % type(self), FutureWarning)\n",
      "/anaconda/lib/python3.6/site-packages/sklearn/linear_model/stochastic_gradient.py:128: FutureWarning: max_iter and tol parameters have been added in <class 'sklearn.linear_model.stochastic_gradient.SGDClassifier'> in 0.19. If both are left unset, they default to max_iter=5 and tol=None. If tol is not None, max_iter defaults to max_iter=1000. From 0.21, default max_iter will be 1000, and default tol will be 1e-3.\n",
      "  \"and default tol will be 1e-3.\" % type(self), FutureWarning)\n",
      "/anaconda/lib/python3.6/site-packages/sklearn/linear_model/stochastic_gradient.py:128: FutureWarning: max_iter and tol parameters have been added in <class 'sklearn.linear_model.stochastic_gradient.SGDClassifier'> in 0.19. If both are left unset, they default to max_iter=5 and tol=None. If tol is not None, max_iter defaults to max_iter=1000. From 0.21, default max_iter will be 1000, and default tol will be 1e-3.\n",
      "  \"and default tol will be 1e-3.\" % type(self), FutureWarning)\n",
      "/anaconda/lib/python3.6/site-packages/sklearn/linear_model/stochastic_gradient.py:128: FutureWarning: max_iter and tol parameters have been added in <class 'sklearn.linear_model.stochastic_gradient.SGDClassifier'> in 0.19. If both are left unset, they default to max_iter=5 and tol=None. If tol is not None, max_iter defaults to max_iter=1000. From 0.21, default max_iter will be 1000, and default tol will be 1e-3.\n",
      "  \"and default tol will be 1e-3.\" % type(self), FutureWarning)\n",
      "/anaconda/lib/python3.6/site-packages/sklearn/linear_model/stochastic_gradient.py:128: FutureWarning: max_iter and tol parameters have been added in <class 'sklearn.linear_model.stochastic_gradient.SGDClassifier'> in 0.19. If both are left unset, they default to max_iter=5 and tol=None. If tol is not None, max_iter defaults to max_iter=1000. From 0.21, default max_iter will be 1000, and default tol will be 1e-3.\n",
      "  \"and default tol will be 1e-3.\" % type(self), FutureWarning)\n",
      "/anaconda/lib/python3.6/site-packages/sklearn/linear_model/stochastic_gradient.py:128: FutureWarning: max_iter and tol parameters have been added in <class 'sklearn.linear_model.stochastic_gradient.SGDClassifier'> in 0.19. If both are left unset, they default to max_iter=5 and tol=None. If tol is not None, max_iter defaults to max_iter=1000. From 0.21, default max_iter will be 1000, and default tol will be 1e-3.\n",
      "  \"and default tol will be 1e-3.\" % type(self), FutureWarning)\n",
      "/anaconda/lib/python3.6/site-packages/sklearn/linear_model/stochastic_gradient.py:128: FutureWarning: max_iter and tol parameters have been added in <class 'sklearn.linear_model.stochastic_gradient.SGDClassifier'> in 0.19. If both are left unset, they default to max_iter=5 and tol=None. If tol is not None, max_iter defaults to max_iter=1000. From 0.21, default max_iter will be 1000, and default tol will be 1e-3.\n",
      "  \"and default tol will be 1e-3.\" % type(self), FutureWarning)\n",
      "/anaconda/lib/python3.6/site-packages/sklearn/linear_model/stochastic_gradient.py:128: FutureWarning: max_iter and tol parameters have been added in <class 'sklearn.linear_model.stochastic_gradient.SGDClassifier'> in 0.19. If both are left unset, they default to max_iter=5 and tol=None. If tol is not None, max_iter defaults to max_iter=1000. From 0.21, default max_iter will be 1000, and default tol will be 1e-3.\n",
      "  \"and default tol will be 1e-3.\" % type(self), FutureWarning)\n",
      "/anaconda/lib/python3.6/site-packages/sklearn/linear_model/stochastic_gradient.py:128: FutureWarning: max_iter and tol parameters have been added in <class 'sklearn.linear_model.stochastic_gradient.SGDClassifier'> in 0.19. If both are left unset, they default to max_iter=5 and tol=None. If tol is not None, max_iter defaults to max_iter=1000. From 0.21, default max_iter will be 1000, and default tol will be 1e-3.\n",
      "  \"and default tol will be 1e-3.\" % type(self), FutureWarning)\n",
      "[Parallel(n_jobs=3)]: Done  90 out of  90 | elapsed:   55.1s finished\n"
     ]
    },
    {
     "data": {
      "text/plain": [
       "0.8227571115973742"
      ]
     },
     "execution_count": 16,
     "metadata": {},
     "output_type": "execute_result"
    }
   ],
   "source": [
    "# define random search grid with cv\n",
    "rscv_clf = RandomizedSearchCV(estimator=pipeline, verbose=1,\n",
    "                              param_distributions=parameters,\n",
    "                              n_jobs=3, n_iter=30, cv=3, \n",
    "                              random_state=42)\n",
    "\n",
    "# fit model based\n",
    "rscv_clf_mod = rscv_clf.fit(x_train, y_train)\n",
    "\n",
    "# get best score from CV\n",
    "rscv_clf_mod.best_score_"
   ]
  },
  {
   "cell_type": "code",
   "execution_count": 49,
   "metadata": {},
   "outputs": [
    {
     "data": {
      "text/plain": [
       "{'clf__selected_model': ('svm',\n",
       "  {'alpha': 0.01, 'l1_ratio': 0.25, 'loss': 'hinge'}),\n",
       " 'vect__selected_model': ('lemmatizer',\n",
       "  {'lowercase': True, 'ngram_range': (1, 2), 'stop_words': 'english'})}"
      ]
     },
     "execution_count": 49,
     "metadata": {},
     "output_type": "execute_result"
    }
   ],
   "source": [
    "# get parameters for best score from CV\n",
    "rscv_clf_mod.best_params_"
   ]
  },
  {
   "cell_type": "code",
   "execution_count": 50,
   "metadata": {},
   "outputs": [
    {
     "name": "stdout",
     "output_type": "stream",
     "text": [
      "             precision    recall  f1-score   support\n",
      "\n",
      "       FAKE       0.89      0.92      0.90       383\n",
      "       REAL       0.93      0.89      0.91       417\n",
      "\n",
      "avg / total       0.91      0.91      0.91       800\n",
      "\n"
     ]
    }
   ],
   "source": [
    "# make predictions\n",
    "rscv_clf_pred = rscv_clf_mod.best_estimator_.predict(x_validation)\n",
    "\n",
    "# model evaluation\n",
    "print(metrics.classification_report(y_validation, rscv_clf_pred))"
   ]
  }
 ],
 "metadata": {
  "kernelspec": {
   "display_name": "Python 3",
   "language": "python",
   "name": "python3"
  },
  "language_info": {
   "codemirror_mode": {
    "name": "ipython",
    "version": 3
   },
   "file_extension": ".py",
   "mimetype": "text/x-python",
   "name": "python",
   "nbconvert_exporter": "python",
   "pygments_lexer": "ipython3",
   "version": "3.6.4"
  }
 },
 "nbformat": 4,
 "nbformat_minor": 2
}
