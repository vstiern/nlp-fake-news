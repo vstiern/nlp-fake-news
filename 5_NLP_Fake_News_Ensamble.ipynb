{
 "cells": [
  {
   "cell_type": "markdown",
   "metadata": {},
   "source": [
    "# Ensamble Models\n",
    "**Authors**: Vilhelm Stiernstedt, Sharon Marín Salazar & Andrea Tondella\n",
    "<br>\n",
    "**Date**: 26/05/2018\n",
    "\n",
    "In this final section we will collect our best models with their optimized parameters and text processers. We will set up the their pipeline and then integrate them into a soft ensamble, even split more or less. Our models used are:\n",
    "- SGD\n",
    "- Multi-NB\n",
    "- Sequential NN"
   ]
  },
  {
   "cell_type": "markdown",
   "metadata": {},
   "source": [
    "## Import Libraries"
   ]
  },
  {
   "cell_type": "code",
   "execution_count": 15,
   "metadata": {},
   "outputs": [],
   "source": [
    "# general libs\n",
    "import collections\n",
    "import time\n",
    "import re\n",
    "import matplotlib.pyplot as plt\n",
    "import numpy as np\n",
    "import pandas as pd\n",
    "import seaborn as sns\n",
    "from scipy.sparse import hstack\n",
    "import warnings\n",
    "\n",
    "# nltk libs\n",
    "from nltk import ngrams\n",
    "from nltk.corpus import stopwords\n",
    "from nltk.stem.snowball import SnowballStemmer\n",
    "from nltk.stem.porter import PorterStemmer\n",
    "from nltk.stem import WordNetLemmatizer\n",
    "from nltk.tokenize import sent_tokenize\n",
    "from nltk.tokenize import word_tokenize\n",
    "\n",
    "# keras libs\n",
    "from keras.wrappers.scikit_learn import KerasClassifier\n",
    "from keras import metrics as kerasMetrics\n",
    "from keras.models import Sequential\n",
    "from keras.layers import Dense, Dropout, Activation, Flatten\n",
    "from keras.layers import Embedding\n",
    "from keras.layers import Conv1D, GlobalMaxPooling1D\n",
    "from keras.layers.convolutional import MaxPooling1D\n",
    "from keras.preprocessing.text import Tokenizer\n",
    "from keras.preprocessing import sequence\n",
    "from keras.preprocessing.sequence import pad_sequences\n",
    "from keras.layers.wrappers import TimeDistributed\n",
    "from keras.layers.recurrent import LSTM\n",
    "\n",
    "# sklearn libs\n",
    "from sklearn.base import TransformerMixin\n",
    "from sklearn.base import BaseEstimator\n",
    "from sklearn.model_selection import GridSearchCV\n",
    "from sklearn.preprocessing import LabelEncoder\n",
    "from sklearn.feature_extraction.text import CountVectorizer\n",
    "from sklearn.feature_extraction.text import TfidfVectorizer\n",
    "from sklearn.feature_selection import chi2\n",
    "from sklearn.feature_selection import SelectKBest\n",
    "from sklearn.model_selection import GridSearchCV\n",
    "from sklearn.model_selection import train_test_split\n",
    "from sklearn.model_selection import cross_val_score\n",
    "from sklearn import metrics\n",
    "from sklearn.metrics import confusion_matrix\n",
    "from sklearn import metrics\n",
    "from sklearn import svm\n",
    "from sklearn.linear_model import LogisticRegression\n",
    "from sklearn.linear_model import SGDClassifier\n",
    "from sklearn.naive_bayes import MultinomialNB\n",
    "from sklearn.pipeline import Pipeline\n",
    "from sklearn.pipeline import make_pipeline\n",
    "\n",
    "# mlxtend libs (ensamle / stacking)\n",
    "from mlxtend.classifier import EnsembleVoteClassifier\n",
    "from mlxtend.classifier import StackingClassifier\n",
    "\n",
    "# Warning settings -> suppress depreciation warnings\n",
    "warnings.filterwarnings('ignore')"
   ]
  },
  {
   "cell_type": "markdown",
   "metadata": {},
   "source": [
    "## Import Data"
   ]
  },
  {
   "cell_type": "code",
   "execution_count": 16,
   "metadata": {},
   "outputs": [],
   "source": [
    "# set path to data\n",
    "data_path = 'data/'\n",
    "\n",
    "# load test and train\n",
    "df_train = pd.read_csv(data_path+'training_clean.csv')\n",
    "df_test = pd.read_csv(data_path+'fake_or_real_news_test.csv')\n",
    "\n",
    "# set index\n",
    "df_train.set_index('ID', inplace=True)\n",
    "df_test.set_index('ID', inplace=True)\n",
    "\n",
    "# define combined df\n",
    "all_data = df_train.append(df_test)"
   ]
  },
  {
   "cell_type": "markdown",
   "metadata": {},
   "source": [
    "## Text Processing"
   ]
  },
  {
   "cell_type": "markdown",
   "metadata": {},
   "source": [
    "#### Stemmers"
   ]
  },
  {
   "cell_type": "code",
   "execution_count": 17,
   "metadata": {},
   "outputs": [],
   "source": [
    "# define count vectorizer for modelling (different parameter inputs will be given in modelling)\n",
    "count_vectorizer = CountVectorizer()\n",
    "\n",
    "### define SnowballStemmer w. NLTK extension\n",
    "snowball_stemmer = SnowballStemmer(\"english\")\n",
    "# define count vectorizer w. SnowballStemmer\n",
    "class SnowballCountVectorizer(CountVectorizer):\n",
    "    def build_analyzer(self):\n",
    "        analyzer = super(SnowballCountVectorizer, self).build_analyzer()\n",
    "        return lambda doc: ([snowball_stemmer.stem(w) for w in analyzer(doc)])\n",
    "    \n",
    "### define PorterStemmer w. NLTK extension\n",
    "porter_stemmer = PorterStemmer(mode='NLTK_EXTENSIONS')\n",
    "# define count vectorizer w. PorterStemmer\n",
    "class PorterCountVectorizer(CountVectorizer):\n",
    "    def build_analyzer(self):\n",
    "        analyzer = super(PorterCountVectorizer, self).build_analyzer()\n",
    "        return lambda doc: ([porter_stemmer.stem(w) for w in analyzer(doc)])"
   ]
  },
  {
   "cell_type": "markdown",
   "metadata": {},
   "source": [
    "#### Variable Selection"
   ]
  },
  {
   "cell_type": "code",
   "execution_count": 18,
   "metadata": {},
   "outputs": [],
   "source": [
    "# create different feature subsets\n",
    "x = df_train.text"
   ]
  },
  {
   "cell_type": "markdown",
   "metadata": {},
   "source": [
    "#### Label"
   ]
  },
  {
   "cell_type": "code",
   "execution_count": 19,
   "metadata": {},
   "outputs": [],
   "source": [
    "# define labelencoder and preprocess label\n",
    "le = LabelEncoder()\n",
    "y = le.fit_transform(df_train.label)\n",
    "\n",
    "# Fake = 0\n",
    "# Real = 1"
   ]
  },
  {
   "cell_type": "markdown",
   "metadata": {},
   "source": [
    "#### Split Data"
   ]
  },
  {
   "cell_type": "code",
   "execution_count": 20,
   "metadata": {},
   "outputs": [],
   "source": [
    "# split training data and labels into train and validation 80/20\n",
    "x_train, x_test, y_train, y_test = train_test_split(x, y,\n",
    "                                                    test_size=0.2, \n",
    "                                                    random_state=42)"
   ]
  },
  {
   "cell_type": "markdown",
   "metadata": {},
   "source": [
    "### Model 1 - SGD"
   ]
  },
  {
   "cell_type": "code",
   "execution_count": 21,
   "metadata": {},
   "outputs": [
    {
     "name": "stdout",
     "output_type": "stream",
     "text": [
      "             precision    recall  f1-score   support\n",
      "\n",
      "          0      0.895     0.935     0.914       383\n",
      "          1      0.938     0.899     0.918       417\n",
      "\n",
      "avg / total      0.917     0.916     0.916       800\n",
      "\n"
     ]
    }
   ],
   "source": [
    "# define vectorizer\n",
    "sgd_vect = SnowballCountVectorizer(lowercase=True, ngram_range=(1, 2), stop_words=None)\n",
    "\n",
    "# define model -> use of loss=log as we need probabilty for ensamble -> lowers score slightly\n",
    "sgd_clf = SGDClassifier(alpha=0.1, l1_ratio=0.75, loss='log', n_iter=800)\n",
    "\n",
    "# define pipeline\n",
    "sgd_pipeline = Pipeline([('vect', sgd_vect), ('clf', sgd_clf)])\n",
    "\n",
    "# define paramters\n",
    "alpha=[0.1]\n",
    "l1_ratio=[0.75]\n",
    "loss=['log']\n",
    "n_iter=[800]\n",
    "\n",
    "# insert into dict\n",
    "sgd_param_grid = dict(clf__alpha=alpha, clf__l1_ratio=l1_ratio,\n",
    "                      clf__loss=loss, clf__n_iter=n_iter)\n",
    "\n",
    "# specify randsearch gird\n",
    "#seq_m_grid = GridSearchCV(estimator=sgd_pipeline,\n",
    "#                          param_grid=sgd_param_grid,\n",
    "#                          n_jobs=1, cv=3)\n",
    "\n",
    "# fit model pipelineg\n",
    "#seq_m_grid.fit(x_train, y_train)\n",
    "sgd_pipeline.fit(x_train, y_train)\n",
    "\n",
    "# make predictions\n",
    "#sgd_mod_pred = seq_m_grid.best_estimator_.predict(x_test)\n",
    "sgd_mod_pred = sgd_pipeline.predict(x_test)\n",
    "\n",
    "# model evaluation\n",
    "print(metrics.classification_report(y_test, sgd_mod_pred, digits=3))"
   ]
  },
  {
   "cell_type": "markdown",
   "metadata": {},
   "source": [
    "### Model 2 - MultiNB"
   ]
  },
  {
   "cell_type": "code",
   "execution_count": 13,
   "metadata": {},
   "outputs": [
    {
     "name": "stdout",
     "output_type": "stream",
     "text": [
      "             precision    recall  f1-score   support\n",
      "\n",
      "          0      0.958     0.885     0.920       383\n",
      "          1      0.901     0.964     0.932       417\n",
      "\n",
      "avg / total      0.928     0.926     0.926       800\n",
      "\n"
     ]
    }
   ],
   "source": [
    "# define vectorizer\n",
    "mnb_vect = CountVectorizer(ngram_range=(1, 3), stop_words=None, max_df=0.75)\n",
    "\n",
    "# define feature selector\n",
    "mnb_sel = SelectKBest(k=10)\n",
    "\n",
    "# define model\n",
    "mnb_clf = MultinomialNB(alpha=0.25)\n",
    "\n",
    "# define pipeline\n",
    "mnb_pipeline = Pipeline([('vect', mnb_vect), ('clf', mnb_clf)]) #('sel', mnb_sel), \n",
    "\n",
    "# define parameters\n",
    "alpha=[0.25]\n",
    "k=[10, 25, 50, 100, None]\n",
    "\n",
    "# insert into dict\n",
    "mnb_param_grid = dict(clf__alpha=alpha) # , sel__k=k)\n",
    "\n",
    "# specify randsearch gird\n",
    "mnb_m_grid = GridSearchCV(estimator=mnb_pipeline,\n",
    "                          param_grid=mnb_param_grid,\n",
    "                          n_jobs=1, cv=2)\n",
    "\n",
    "# fit model pipelineg\n",
    "#mnb_m_grid.fit(x_train, y_train)\n",
    "mnb_pipeline.fit(x_train, y_train)\n",
    "\n",
    "# make predictions\n",
    "#mnb_m_grid_pred = mnb_m_grid.best_estimator_.predict(x_test)\n",
    "mnb_m_grid_pred = mnb_pipeline.predict(x_test)\n",
    "\n",
    "# model evaluation\n",
    "print(metrics.classification_report(y_test, mnb_m_grid_pred, digits=3))"
   ]
  },
  {
   "cell_type": "markdown",
   "metadata": {},
   "source": [
    "### Model 3 - Sequential Multilayer Network"
   ]
  },
  {
   "cell_type": "markdown",
   "metadata": {},
   "source": [
    "#### Define Functions"
   ]
  },
  {
   "cell_type": "code",
   "execution_count": 22,
   "metadata": {},
   "outputs": [],
   "source": [
    "# define sequential model\n",
    "def create_simple_model(optimizer='adam', init='glorot_uniform', dropout_rate=0.2, num_max=5000):\n",
    "    model = Sequential()\n",
    "    # first layer\n",
    "    model.add(Dense(512,\n",
    "                    activation='relu',\n",
    "                    input_shape=(num_max,),\n",
    "                    kernel_initializer=init)\n",
    "             ) \n",
    "    model.add(Dropout(dropout_rate)) # dropout\n",
    "    # second layer\n",
    "    model.add(Dense(256,\n",
    "                    activation='relu',\n",
    "                    kernel_initializer=init)\n",
    "             )\n",
    "    model.add(Dropout(dropout_rate)) # dropout \n",
    "    # out_layer\n",
    "    model.add(Dense(1,\n",
    "                    activation='sigmoid',\n",
    "                    kernel_initializer=init)\n",
    "             )\n",
    "    # summary\n",
    "    model.summary()\n",
    "    # compiler\n",
    "    model.compile(loss='binary_crossentropy',  # loss function\n",
    "              optimizer=optimizer, # optimizer\n",
    "              metrics=['acc', kerasMetrics.binary_accuracy]) # metric \n",
    "    print('compile done')\n",
    "    return model"
   ]
  },
  {
   "cell_type": "code",
   "execution_count": 23,
   "metadata": {},
   "outputs": [],
   "source": [
    "# define tokenizer with fit_on_text and texts_to_matrix for pipeline\n",
    "class TotalTokenizer(Tokenizer, BaseEstimator, TransformerMixin):\n",
    "    \"\"\"Tokenzier with fit_on_text and texts_to_matrix for pipelines.\"\"\"\n",
    "    def __init__(self, num_words=5000, lower=True, mode='count', **kwargs):\n",
    "        super().__init__(**kwargs)\n",
    "        self.num_words = num_words\n",
    "        self.lower = lower\n",
    "        \n",
    "    def fit(self, texts, y=None):\n",
    "        self.fit_on_texts(texts)\n",
    "        return self\n",
    "    \n",
    "    def transform(self, texts, mode='count', y=None):\n",
    "        return np.array(self.texts_to_matrix(texts, mode = mode))"
   ]
  },
  {
   "cell_type": "markdown",
   "metadata": {},
   "source": [
    "#### Pipeline"
   ]
  },
  {
   "cell_type": "code",
   "execution_count": 24,
   "metadata": {},
   "outputs": [
    {
     "name": "stdout",
     "output_type": "stream",
     "text": [
      "_________________________________________________________________\n",
      "Layer (type)                 Output Shape              Param #   \n",
      "=================================================================\n",
      "dense_1 (Dense)              (None, 512)               2560512   \n",
      "_________________________________________________________________\n",
      "dropout_1 (Dropout)          (None, 512)               0         \n",
      "_________________________________________________________________\n",
      "dense_2 (Dense)              (None, 256)               131328    \n",
      "_________________________________________________________________\n",
      "dropout_2 (Dropout)          (None, 256)               0         \n",
      "_________________________________________________________________\n",
      "dense_3 (Dense)              (None, 1)                 257       \n",
      "=================================================================\n",
      "Total params: 2,692,097\n",
      "Trainable params: 2,692,097\n",
      "Non-trainable params: 0\n",
      "_________________________________________________________________\n",
      "compile done\n",
      "             precision    recall  f1-score   support\n",
      "\n",
      "          0      0.896     0.969     0.931       383\n",
      "          1      0.969     0.897     0.932       417\n",
      "\n",
      "avg / total      0.934     0.931     0.931       800\n",
      "\n"
     ]
    }
   ],
   "source": [
    "# define vectorizer\n",
    "seq_vect = TotalTokenizer(num_words=5000, lower=True, mode='count')\n",
    "\n",
    "# define model -> maybe increase dropout as model might currently overfit\n",
    "seq_clf = KerasClassifier(build_fn=create_simple_model, verbose=0,\n",
    "                          batch_size=32, epochs=10)\n",
    "\n",
    "# define pipeline\n",
    "seq_pipeline = make_pipeline(seq_vect, seq_clf)\n",
    "\n",
    "# fit model pipelineg\n",
    "seq_pipeline.fit(x_train, y_train)\n",
    "\n",
    "# make predictions\n",
    "seq_m_grid_pred = seq_pipeline.predict(x_test)\n",
    "\n",
    "# model evaluation\n",
    "print(metrics.classification_report(y_test, seq_m_grid_pred, digits=3))"
   ]
  },
  {
   "cell_type": "markdown",
   "metadata": {},
   "source": [
    "### Ensemble Models\n",
    "We will try both soft and hard voting and also different weights to find the best combination. We will try to use all three models but also only use two, to see if the meta classifier finds it easier to decide best model for different classes."
   ]
  },
  {
   "cell_type": "code",
   "execution_count": 25,
   "metadata": {},
   "outputs": [],
   "source": [
    "# Define Ensemble classifers\n",
    "clf1 = sgd_pipeline # for soft: 0.33 voting right\n",
    "clf2 = mnb_pipeline # for soft: 0.34 voting right -> highest avg.\n",
    "clf3 = seq_pipeline # for soft: 0.33 voting right\n",
    "eclf = EnsembleVoteClassifier(clfs=[clf1, clf2, clf3], voting='soft', weights=[0.34,0.33,0.33])\n",
    "\n",
    "# Define name of models and stack classifier\n",
    "labels = ['SGD', 'Multi_NB', 'Seq_NN', 'Ensemble']\n",
    "\n",
    "# Define classifer list\n",
    "clf_list = [clf1, clf2, clf3, eclf]"
   ]
  },
  {
   "cell_type": "code",
   "execution_count": 26,
   "metadata": {},
   "outputs": [
    {
     "name": "stdout",
     "output_type": "stream",
     "text": [
      "Accuracy: 0.911 (+/- 0.006) [SGD]\n",
      "Accuracy: 0.895 (+/- 0.009) [Multi_NB]\n",
      "_________________________________________________________________\n",
      "Layer (type)                 Output Shape              Param #   \n",
      "=================================================================\n",
      "dense_4 (Dense)              (None, 512)               2560512   \n",
      "_________________________________________________________________\n",
      "dropout_3 (Dropout)          (None, 512)               0         \n",
      "_________________________________________________________________\n",
      "dense_5 (Dense)              (None, 256)               131328    \n",
      "_________________________________________________________________\n",
      "dropout_4 (Dropout)          (None, 256)               0         \n",
      "_________________________________________________________________\n",
      "dense_6 (Dense)              (None, 1)                 257       \n",
      "=================================================================\n",
      "Total params: 2,692,097\n",
      "Trainable params: 2,692,097\n",
      "Non-trainable params: 0\n",
      "_________________________________________________________________\n",
      "compile done\n",
      "_________________________________________________________________\n",
      "Layer (type)                 Output Shape              Param #   \n",
      "=================================================================\n",
      "dense_7 (Dense)              (None, 512)               2560512   \n",
      "_________________________________________________________________\n",
      "dropout_5 (Dropout)          (None, 512)               0         \n",
      "_________________________________________________________________\n",
      "dense_8 (Dense)              (None, 256)               131328    \n",
      "_________________________________________________________________\n",
      "dropout_6 (Dropout)          (None, 256)               0         \n",
      "_________________________________________________________________\n",
      "dense_9 (Dense)              (None, 1)                 257       \n",
      "=================================================================\n",
      "Total params: 2,692,097\n",
      "Trainable params: 2,692,097\n",
      "Non-trainable params: 0\n",
      "_________________________________________________________________\n",
      "compile done\n",
      "_________________________________________________________________\n",
      "Layer (type)                 Output Shape              Param #   \n",
      "=================================================================\n",
      "dense_10 (Dense)             (None, 512)               2560512   \n",
      "_________________________________________________________________\n",
      "dropout_7 (Dropout)          (None, 512)               0         \n",
      "_________________________________________________________________\n",
      "dense_11 (Dense)             (None, 256)               131328    \n",
      "_________________________________________________________________\n",
      "dropout_8 (Dropout)          (None, 256)               0         \n",
      "_________________________________________________________________\n",
      "dense_12 (Dense)             (None, 1)                 257       \n",
      "=================================================================\n",
      "Total params: 2,692,097\n",
      "Trainable params: 2,692,097\n",
      "Non-trainable params: 0\n",
      "_________________________________________________________________\n",
      "compile done\n",
      "Accuracy: 0.915 (+/- 0.017) [Seq_NN]\n",
      "_________________________________________________________________\n",
      "Layer (type)                 Output Shape              Param #   \n",
      "=================================================================\n",
      "dense_13 (Dense)             (None, 512)               2560512   \n",
      "_________________________________________________________________\n",
      "dropout_9 (Dropout)          (None, 512)               0         \n",
      "_________________________________________________________________\n",
      "dense_14 (Dense)             (None, 256)               131328    \n",
      "_________________________________________________________________\n",
      "dropout_10 (Dropout)         (None, 256)               0         \n",
      "_________________________________________________________________\n",
      "dense_15 (Dense)             (None, 1)                 257       \n",
      "=================================================================\n",
      "Total params: 2,692,097\n",
      "Trainable params: 2,692,097\n",
      "Non-trainable params: 0\n",
      "_________________________________________________________________\n",
      "compile done\n",
      "_________________________________________________________________\n",
      "Layer (type)                 Output Shape              Param #   \n",
      "=================================================================\n",
      "dense_16 (Dense)             (None, 512)               2560512   \n",
      "_________________________________________________________________\n",
      "dropout_11 (Dropout)         (None, 512)               0         \n",
      "_________________________________________________________________\n",
      "dense_17 (Dense)             (None, 256)               131328    \n",
      "_________________________________________________________________\n",
      "dropout_12 (Dropout)         (None, 256)               0         \n",
      "_________________________________________________________________\n",
      "dense_18 (Dense)             (None, 1)                 257       \n",
      "=================================================================\n",
      "Total params: 2,692,097\n",
      "Trainable params: 2,692,097\n",
      "Non-trainable params: 0\n",
      "_________________________________________________________________\n",
      "compile done\n",
      "_________________________________________________________________\n",
      "Layer (type)                 Output Shape              Param #   \n",
      "=================================================================\n",
      "dense_19 (Dense)             (None, 512)               2560512   \n",
      "_________________________________________________________________\n",
      "dropout_13 (Dropout)         (None, 512)               0         \n",
      "_________________________________________________________________\n",
      "dense_20 (Dense)             (None, 256)               131328    \n",
      "_________________________________________________________________\n",
      "dropout_14 (Dropout)         (None, 256)               0         \n",
      "_________________________________________________________________\n",
      "dense_21 (Dense)             (None, 1)                 257       \n",
      "=================================================================\n",
      "Total params: 2,692,097\n",
      "Trainable params: 2,692,097\n",
      "Non-trainable params: 0\n",
      "_________________________________________________________________\n",
      "compile done\n",
      "Accuracy: 0.931 (+/- 0.009) [Ensemble]\n"
     ]
    }
   ],
   "source": [
    "# Assing empty lists for cross validation mean scores and std\n",
    "clf_cv_mean = []\n",
    "clf_cv_std = []\n",
    "\n",
    "# Cross validate each model and plot average score \n",
    "# use of orginal x and y -> no test/validation spit as no prediction will be made\n",
    "for clf, label in zip(clf_list, labels):\n",
    "    scores = cross_val_score(clf, x, y, cv=3)\n",
    "    print(\"Accuracy: %0.3f (+/- %0.3f) [%s]\"\n",
    "          % (scores.mean(), scores.std(), label))\n",
    "    # add mean and sd to lists\n",
    "    clf_cv_mean.append(scores.mean())\n",
    "    clf_cv_std.append(scores.std())"
   ]
  },
  {
   "cell_type": "code",
   "execution_count": 27,
   "metadata": {},
   "outputs": [
    {
     "data": {
      "image/png": "[encoded data removed]",
      "text/plain": [
       "<Figure size 576x432 with 1 Axes>"
      ]
     },
     "metadata": {},
     "output_type": "display_data"
    }
   ],
   "source": [
    "# Plot the accurancy of the different models\n",
    "plt.figure(figsize=(8, 6))\n",
    "(_, caps, _) = plt.errorbar(range(4), clf_cv_mean, yerr=clf_cv_std, c='blue', fmt='-o', capsize=5)\n",
    "for cap in caps:\n",
    "    cap.set_markeredgewidth(1)\n",
    "\n",
    "plt.xticks(range(4), ['SGD', 'Multi_NB', 'Seq_NN', 'Ensemble'])\n",
    "plt.ylabel('Accuracy'); plt.xlabel('Classifier'); plt.title('Stacking Ensemble');\n",
    "plt.show()"
   ]
  },
  {
   "cell_type": "markdown",
   "metadata": {},
   "source": [
    "### Final Model\n",
    "Unfortuantely we did not mange to combine our three induvidually good models to create better model. Probably as the negative class is over represented and the other models fail at doing decent predictions of this class. We will use the svm - ovr model for the final prediction of the test dataset."
   ]
  },
  {
   "cell_type": "code",
   "execution_count": 28,
   "metadata": {},
   "outputs": [
    {
     "name": "stdout",
     "output_type": "stream",
     "text": [
      "_________________________________________________________________\n",
      "Layer (type)                 Output Shape              Param #   \n",
      "=================================================================\n",
      "dense_22 (Dense)             (None, 512)               2560512   \n",
      "_________________________________________________________________\n",
      "dropout_15 (Dropout)         (None, 512)               0         \n",
      "_________________________________________________________________\n",
      "dense_23 (Dense)             (None, 256)               131328    \n",
      "_________________________________________________________________\n",
      "dropout_16 (Dropout)         (None, 256)               0         \n",
      "_________________________________________________________________\n",
      "dense_24 (Dense)             (None, 1)                 257       \n",
      "=================================================================\n",
      "Total params: 2,692,097\n",
      "Trainable params: 2,692,097\n",
      "Non-trainable params: 0\n",
      "_________________________________________________________________\n",
      "compile done\n"
     ]
    }
   ],
   "source": [
    "# Fit model\n",
    "eclf.fit(x, y)\n",
    "\n",
    "# Make predictions for test data, input into new df\n",
    "final_predictions = pd.DataFrame(eclf.predict(df_test.text))"
   ]
  },
  {
   "cell_type": "markdown",
   "metadata": {},
   "source": [
    "### Submission"
   ]
  },
  {
   "cell_type": "code",
   "execution_count": 31,
   "metadata": {},
   "outputs": [
    {
     "data": {
      "text/html": [
       "<div>\n",
       "<style scoped>\n",
       "    .dataframe tbody tr th:only-of-type {\n",
       "        vertical-align: middle;\n",
       "    }\n",
       "\n",
       "    .dataframe tbody tr th {\n",
       "        vertical-align: top;\n",
       "    }\n",
       "\n",
       "    .dataframe thead th {\n",
       "        text-align: right;\n",
       "    }\n",
       "</style>\n",
       "<table border=\"1\" class=\"dataframe\">\n",
       "  <thead>\n",
       "    <tr style=\"text-align: right;\">\n",
       "      <th></th>\n",
       "      <th>id</th>\n",
       "      <th>label</th>\n",
       "    </tr>\n",
       "  </thead>\n",
       "  <tbody>\n",
       "    <tr>\n",
       "      <th>0</th>\n",
       "      <td>10498</td>\n",
       "      <td>Fake</td>\n",
       "    </tr>\n",
       "    <tr>\n",
       "      <th>1</th>\n",
       "      <td>2439</td>\n",
       "      <td>Real</td>\n",
       "    </tr>\n",
       "    <tr>\n",
       "      <th>2</th>\n",
       "      <td>864</td>\n",
       "      <td>Real</td>\n",
       "    </tr>\n",
       "    <tr>\n",
       "      <th>3</th>\n",
       "      <td>4128</td>\n",
       "      <td>Real</td>\n",
       "    </tr>\n",
       "    <tr>\n",
       "      <th>4</th>\n",
       "      <td>662</td>\n",
       "      <td>Real</td>\n",
       "    </tr>\n",
       "  </tbody>\n",
       "</table>\n",
       "</div>"
      ],
      "text/plain": [
       "      id label\n",
       "0  10498  Fake\n",
       "1   2439  Real\n",
       "2    864  Real\n",
       "3   4128  Real\n",
       "4    662  Real"
      ]
     },
     "execution_count": 31,
     "metadata": {},
     "output_type": "execute_result"
    }
   ],
   "source": [
    "# New df\n",
    "submission = pd.DataFrame()\n",
    "\n",
    "# Import id from test_data index\n",
    "submission['id'] = df_test.index\n",
    "\n",
    "# import status_group predictions \n",
    "submission['label'] = final_predictions\n",
    "\n",
    "# convert numerical to description\n",
    "submission.loc[submission.label == 0, 'label'] = 'Fake'\n",
    "submission.loc[submission.label == 1, 'label'] = 'Real'\n",
    "\n",
    "# Preview\n",
    "submission.head()"
   ]
  },
  {
   "cell_type": "code",
   "execution_count": 32,
   "metadata": {},
   "outputs": [],
   "source": [
    "# Write submission to csv\n",
    "submission.to_csv('submission_final.csv', sep=',', index=False)"
   ]
  }
 ],
 "metadata": {
  "kernelspec": {
   "display_name": "Python 3",
   "language": "python",
   "name": "python3"
  },
  "language_info": {
   "codemirror_mode": {
    "name": "ipython",
    "version": 3
   },
   "file_extension": ".py",
   "mimetype": "text/x-python",
   "name": "python",
   "nbconvert_exporter": "python",
   "pygments_lexer": "ipython3",
   "version": "3.6.4"
  }
 },
 "nbformat": 4,
 "nbformat_minor": 2
}
